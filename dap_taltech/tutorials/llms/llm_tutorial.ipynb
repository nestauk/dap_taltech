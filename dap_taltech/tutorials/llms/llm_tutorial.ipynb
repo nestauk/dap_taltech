{
          "cells": [
                    {
                              "attachments": {},
                              "cell_type": "markdown",
                              "metadata": {},
                              "source": [
                                        "## Welcome to the LLM tutorial 👋!\n",
                                        "\n",
                                        "The **2 key goals** of the tutorial is as follows:\n",
                                        "\n",
                                        "1. Get comfortable using the Python library langchain;\n",
                                        "2. Using LLMs to solve a fictional innovation mapping scenario \n",
                                        "\n",
                                        "Feel free to refer to some of these materials during the tutorial and in your project work: \n",
                                        "\n",
                                        "#### Documentation \n",
                                        "\n",
                                        "- [langchain](https://python.langchain.com/docs/get_started/introduction.html)\n",
                                        "- [kor](https://eyurtsev.github.io/kor/tutorial.html)\n",
                                        "\n",
                                        "#### Repos \n",
                                        "\n",
                                        "- [The Practical Guides to Large Language Models](https://github.com/Mooler0410/LLMsPracticalGuide)\n",
                                        "\n",
                                        "#### Videos\n",
                                        "\n",
                                        "- [LangChain Crash Course for Beginners](https://www.youtube.com/watch?v=nAmC7SoVLd8)\n"
                              ]
                    },
                    {
                              "cell_type": "code",
                              "execution_count": 6,
                              "metadata": {},
                              "outputs": [],
                              "source": [
                                        "import langchain\n",
                                        "from dotenv import load_dotenv\n",
                                        "from pathlib import Path\n",
                                        "import os\n",
                                        "\n",
                                        "from dap_taltech.utils.data_getters import DataGetter\n",
                                        "from dap_taltech import logger"
                              ]
                    },
                    {
                              "attachments": {},
                              "cell_type": "markdown",
                              "metadata": {},
                              "source": [
                                        "### Preamble\n",
                                        "\n",
                                        "The code block below is the preamble to this tutorial so that:\n",
                                        "\n",
                                        "- we install our dependencies;\n",
                                        "- have access to our datasets; and \n",
                                        "- our OpenAI API key.  "
                              ]
                    },
                    {
                              "cell_type": "code",
                              "execution_count": 7,
                              "metadata": {},
                              "outputs": [
                                        {
                                                  "name": "stderr",
                                                  "output_type": "stream",
                                                  "text": [
                                                            "\u001b[94;1;1m2023-07-21 17:43:28,033 - TalTech HackWeek 2023 - INFO - Loading data from open dap-taltech s3 bucket. (data_getters.py:58)\u001b[0m\n",
                                                            "\u001b[31;1m2023-07-21 17:43:28,034 - TalTech HackWeek 2023 - ERROR - No open api key found. Please set your openAI api key as an environment variable named OPEN_AI_KEY. (4114926551.py:12)\u001b[0m\n"
                                                  ]
                                        }
                              ],
                              "source": [
                                        "os.system(\n",
                                        "    f\"pip install -r {Path.cwd()}/llm_requirements.txt --quiet\" #install requirements to run this notebook\n",
                                        ")\n",
                                        "\n",
                                        "load_dotenv() # load environment variables\n",
                                        "\n",
                                        "dg = DataGetter(local=False) #instantiate our data getter \n",
                                        "\n",
                                        "oa_key = os.environ.get('OPEN_AI_KEY') #get our open api key from our environment variable \n",
                                        "\n",
                                        "if not oa_key:\n",
                                        "    logger.error(\"No open api key found. Please set your openAI api key as an environment variable named OPEN_AI_KEY.\")"
                              ]
                    },
                    {
                              "attachments": {},
                              "cell_type": "markdown",
                              "metadata": {},
                              "source": [
                                        "## Tour of langchain: Building a language model application\n",
                                        "\n",
                                        "TO cover:\n",
                                        "- basic usage (with openai key)\n",
                                        "- prompts\n",
                                        "    - formatting etc.\n",
                                        "    - writing \"better\" prompts\n",
                                        "- chains\n",
                                        "- agents (what they are) & agent types\n",
                                        "- memory"
                              ]
                    },
                    {
                              "attachments": {},
                              "cell_type": "markdown",
                              "metadata": {},
                              "source": [
                                        "## Use case: LLMs in traditional NLP tasks \n",
                                        "\n",
                                        "To demonstrate how we can embed LLMs to help with tranditional NLP tasks, we are going to work through the following: \n",
                                        "\n",
                                        "**Problem:** You are an innovation mapping researcher who has recently won a grant to investigate innovations in Estonian academic publications."
                              ]
                    },
                    {
                              "cell_type": "markdown",
                              "metadata": {},
                              "source": []
                    }
          ],
          "metadata": {
                    "kernelspec": {
                              "display_name": "dap_taltech",
                              "language": "python",
                              "name": "python3"
                    },
                    "language_info": {
                              "codemirror_mode": {
                                        "name": "ipython",
                                        "version": 3
                              },
                              "file_extension": ".py",
                              "mimetype": "text/x-python",
                              "name": "python",
                              "nbconvert_exporter": "python",
                              "pygments_lexer": "ipython3",
                              "version": "3.9.16 | packaged by conda-forge | (main, Feb  1 2023, 21:42:20) \n[Clang 14.0.6 ]"
                    },
                    "orig_nbformat": 4,
                    "vscode": {
                              "interpreter": {
                                        "hash": "10280fdd29a5f790370cdf255c4a66c215f248ca8aa68590910e05113a9680f8"
                              }
                    }
          },
          "nbformat": 4,
          "nbformat_minor": 2
}
