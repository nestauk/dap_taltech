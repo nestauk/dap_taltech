{
          "cells": [
                    {
                              "attachments": {},
                              "cell_type": "markdown",
                              "metadata": {},
                              "source": [
                                        "## Welcome to the LLM tutorial 👋!\n",
                                        "\n",
                                        "The **2 key goals** of the tutorial is as follows:\n",
                                        "\n",
                                        "1. Get comfortable using the Python library langchain;\n",
                                        "2. Using LLMs to solve a fictional innovation mapping scenario \n",
                                        "\n",
                                        "Feel free to refer to some of these materials during the tutorial and in your project work: \n",
                                        "\n",
                                        "#### Documentation \n",
                                        "\n",
                                        "- [langchain](https://python.langchain.com/docs/get_started/introduction.html)\n",
                                        "\n",
                                        "#### Repos \n",
                                        "\n",
                                        "- [The Practical Guides to Large Language Models](https://github.com/Mooler0410/LLMsPracticalGuide)\n",
                                        "- [A series of langchain tutorials](https://github.com/gkamradt/langchain-tutorials)\n",
                                        "\n",
                                        "#### Videos\n",
                                        "\n",
                                        "- [LangChain Crash Course for Beginners](https://www.youtube.com/watch?v=nAmC7SoVLd8)\n"
                              ]
                    },
                    {
                              "cell_type": "code",
                              "execution_count": 1,
                              "metadata": {},
                              "outputs": [],
                              "source": [
                                        "import langchain\n",
                                        "\n",
                                        "from dotenv import load_dotenv\n",
                                        "from pathlib import Path\n",
                                        "import os\n",
                                        "import pandas as pd\n",
                                        "\n",
                                        "from dap_taltech.utils.data_getters import DataGetter\n",
                                        "from dap_taltech import logger\n",
                                        "import llm_utils as lu"
                              ]
                    },
                    {
                              "attachments": {},
                              "cell_type": "markdown",
                              "metadata": {},
                              "source": [
                                        "### Preamble\n",
                                        "\n",
                                        "The code block below is the preamble to this tutorial so that:\n",
                                        "\n",
                                        "- we install our dependencies;\n",
                                        "- have access to our datasets; and \n",
                                        "- our OpenAI API key.  "
                              ]
                    },
                    {
                              "cell_type": "code",
                              "execution_count": 2,
                              "metadata": {},
                              "outputs": [],
                              "source": [
                                        "os.system(\n",
                                        "    f\"pip install -r {Path.cwd()}/llm_requirements.txt --quiet\" #install requirements to run this notebook\n",
                                        ")\n",
                                        "\n",
                                        "load_dotenv() # load environment variables\n",
                                        "\n",
                                        "oa_key = os.environ.get('OPENAI_API_KEY') #get our open api key from our environment variable \n",
                                        "\n",
                                        "if not oa_key:\n",
                                        "    logger.error(\"No open api key found. Please set your openAI api key as an environment variable named OPENAI_API_KEY.\")"
                              ]
                    },
                    {
                              "attachments": {},
                              "cell_type": "markdown",
                              "metadata": {},
                              "source": [
                                        "## Tour of LangChain 🦜🔗: Building a language model application\n",
                                        "\n",
                                        "LangChain is a python \"framework for developing applications powered by language models.\" \n",
                                        "\n",
                                        "You can use it for tasks like Generative Question-Answering (GQA), analyzing structured data, text summarisation etc. \n",
                                        "\n",
                                        "The core feature of the library is the ability to **\"chain together\"** different components to create advanced LLM use cases.   \n",
                                        "\n",
                                        "NOTE: This section is takes heavily from existing online tutorials described in [this repo](https://github.com/gkamradt/langchain-tutorials)."
                              ]
                    },
                    {
                              "attachments": {},
                              "cell_type": "markdown",
                              "metadata": {},
                              "source": [
                                        "Core to langchain (and any language model application) is:\n",
                                        "\n",
                                        "1. **Prompts**\n",
                                        "2. **Language models:** Make calls to language models through common interfaces\n",
                                        "3. **Output parsers:** Extract information from model outputs\n",
                                        "\n",
                                        "The example below does just that: it instantiates OpenAI's language model, defines a prompt, `text`, and makes a call to the language model to outputs a response."
                              ]
                    },
                    {
                              "cell_type": "code",
                              "execution_count": 3,
                              "metadata": {},
                              "outputs": [
                                        {
                                                  "name": "stdout",
                                                  "output_type": "stream",
                                                  "text": [
                                                            "\n",
                                                            "\n",
                                                            "1. Rome, Italy \n",
                                                            "2. Bologna, Italy \n",
                                                            "3. Venice, Italy \n",
                                                            "4. Florence, Italy \n",
                                                            "5. Amalfi Coast, Italy\n"
                                                  ]
                                        }
                              ],
                              "source": [
                                        "from langchain.llms import OpenAI\n",
                                        "\n",
                                        "llm = OpenAI(temperature=0.9) #instantiate our language model. The temperature parameter controls how \"creative\" the model is.\n",
                                        "\n",
                                        "#make this innovation mapping related \n",
                                        "text = \"What are 5 vacation destinations for someone who likes to eat pasta?\" #define our prompt\n",
                                        "\n",
                                        "print(llm(text)) #print the output"
                              ]
                    },
                    {
                              "attachments": {},
                              "cell_type": "markdown",
                              "metadata": {},
                              "source": [
                                        "Let's break down these three components in a bit more detail. \n",
                                        "\n",
                                        "## Prompts \n",
                                        "\n",
                                        "Prompts refer to the textual input into the model.\n",
                                        "\n",
                                        "You can use langchain to create prompts, like simple hardcoded prompt using the PromptTemplate class or passing examples as part of `few-shot prompting`. \n",
                                        "\n",
                                        "**TASK**: Can you re-write the `text` prompt to take as input variables:\n",
                                        "\n",
                                        "1. The number of vacation destinations;\n",
                                        "2. The meal type\n",
                                        "\n",
                                        "Refer to the [prompt template documentation](https://python.langchain.com/docs/modules/model_io/prompts/prompt_templates/) for guidance. "
                              ]
                    },
                    {
                              "cell_type": "code",
                              "execution_count": 9,
                              "metadata": {},
                              "outputs": [],
                              "source": [
                                        "from langchain import PromptTemplate\n",
                                        "\n",
                                        "#Define your prompt template to take as input \"number\" and \"meal\" variables.\n",
                                        "multiple_input_prompt = PromptTemplate(###) \n",
                                        "    \n",
                                        "#format your prompt template with the variables you want to use\n",
                                        "\n",
                                        "prompt = ###"
                              ]
                    },
                    {
                              "attachments": {},
                              "cell_type": "markdown",
                              "metadata": {},
                              "source": [
                                        "Easy enough! What if you want to make use of data to inform your prompt? You can do so vis-a-vis a **feature store**. "
                              ]
                    },
                    {
                              "cell_type": "code",
                              "execution_count": 4,
                              "metadata": {},
                              "outputs": [],
                              "source": [
                                        "#feature store"
                              ]
                    },
                    {
                              "cell_type": "code",
                              "execution_count": 5,
                              "metadata": {},
                              "outputs": [],
                              "source": [
                                        "#few shot learning example"
                              ]
                    },
                    {
                              "cell_type": "code",
                              "execution_count": 6,
                              "metadata": {},
                              "outputs": [],
                              "source": [
                                        "## Chains"
                              ]
                    },
                    {
                              "cell_type": "code",
                              "execution_count": 7,
                              "metadata": {},
                              "outputs": [],
                              "source": [
                                        "## Agents "
                              ]
                    },
                    {
                              "attachments": {},
                              "cell_type": "markdown",
                              "metadata": {},
                              "source": [
                                        "### Putting it all together"
                              ]
                    },
                    {
                              "cell_type": "code",
                              "execution_count": null,
                              "metadata": {},
                              "outputs": [],
                              "source": []
                    },
                    {
                              "attachments": {},
                              "cell_type": "markdown",
                              "metadata": {},
                              "source": [
                                        "## Use case: LLMs in traditional NLP tasks \n",
                                        "\n",
                                        "To demonstrate how we can embed LLMs to help with tranditional NLP tasks, we are going to work through the following: \n",
                                        "\n",
                                        "**Problem:** You are an innovation mapping researcher who has recently won a grant to investigate the Armenian labor market. You have been granted access to armenian online job advert postings. You are interested in tracking the change in skill demand over time.\n",
                                        "\n",
                                        "**Approach:** Use a LLM and langchain to:\n",
                                        "\n",
                                        "1. Extract skill entities from the job advert text;\n",
                                        "2. Parse the output to be json compatible;\n",
                                        "3. Disambiguate the output by mapping the extracted skill to a knowledge base of\n",
                                        "        skills. \n",
                                        "\n",
                                        "In more traditional methods, we might train our own NER model to extract skills, manually labelling hundreds of job adverts with the start and end indices of skills. This example instead embeds an LLM into the system instead."
                              ]
                    },
                    {
                              "cell_type": "code",
                              "execution_count": 8,
                              "metadata": {},
                              "outputs": [
                                        {
                                                  "name": "stderr",
                                                  "output_type": "stream",
                                                  "text": [
                                                            "\u001b[94;1;1m2023-07-31 18:03:40,574 - TalTech HackWeek 2023 - INFO - Loading data from open dap-taltech s3 bucket. (206508154.py:46)\u001b[0m\n"
                                                  ]
                                        }
                              ],
                              "source": [
                                        "#First things first, lets load in our dataset\n",
                                        "\n",
                                        "dg = DataGetter(local=False) #instantiate our data getter \n",
                                        "\n",
                                        "job_adverts = dg.get_armenian_job_adverts() #get our job adverts"
                              ]
                    },
                    {
                              "cell_type": "code",
                              "execution_count": 9,
                              "metadata": {},
                              "outputs": [
                                        {
                                                  "data": {
                                                            "text/html": [
                                                                      "<div>\n",
                                                                      "<style scoped>\n",
                                                                      "    .dataframe tbody tr th:only-of-type {\n",
                                                                      "        vertical-align: middle;\n",
                                                                      "    }\n",
                                                                      "\n",
                                                                      "    .dataframe tbody tr th {\n",
                                                                      "        vertical-align: top;\n",
                                                                      "    }\n",
                                                                      "\n",
                                                                      "    .dataframe thead th {\n",
                                                                      "        text-align: right;\n",
                                                                      "    }\n",
                                                                      "</style>\n",
                                                                      "<table border=\"1\" class=\"dataframe\">\n",
                                                                      "  <thead>\n",
                                                                      "    <tr style=\"text-align: right;\">\n",
                                                                      "      <th></th>\n",
                                                                      "      <th>jobpost</th>\n",
                                                                      "      <th>date</th>\n",
                                                                      "      <th>Title</th>\n",
                                                                      "      <th>Company</th>\n",
                                                                      "      <th>AnnouncementCode</th>\n",
                                                                      "      <th>Term</th>\n",
                                                                      "      <th>Eligibility</th>\n",
                                                                      "      <th>Audience</th>\n",
                                                                      "      <th>StartDate</th>\n",
                                                                      "      <th>Duration</th>\n",
                                                                      "      <th>...</th>\n",
                                                                      "      <th>Salary</th>\n",
                                                                      "      <th>ApplicationP</th>\n",
                                                                      "      <th>OpeningDate</th>\n",
                                                                      "      <th>Deadline</th>\n",
                                                                      "      <th>Notes</th>\n",
                                                                      "      <th>AboutC</th>\n",
                                                                      "      <th>Attach</th>\n",
                                                                      "      <th>Year</th>\n",
                                                                      "      <th>Month</th>\n",
                                                                      "      <th>IT</th>\n",
                                                                      "    </tr>\n",
                                                                      "  </thead>\n",
                                                                      "  <tbody>\n",
                                                                      "    <tr>\n",
                                                                      "      <th>0</th>\n",
                                                                      "      <td>AMERIA Investment Consulting Company\\r\\nJOB TI...</td>\n",
                                                                      "      <td>Jan 5, 2004</td>\n",
                                                                      "      <td>Chief Financial Officer</td>\n",
                                                                      "      <td>AMERIA Investment Consulting Company</td>\n",
                                                                      "      <td>NaN</td>\n",
                                                                      "      <td>NaN</td>\n",
                                                                      "      <td>NaN</td>\n",
                                                                      "      <td>NaN</td>\n",
                                                                      "      <td>NaN</td>\n",
                                                                      "      <td>NaN</td>\n",
                                                                      "      <td>...</td>\n",
                                                                      "      <td>NaN</td>\n",
                                                                      "      <td>To apply for this position, please submit a\\r\\...</td>\n",
                                                                      "      <td>NaN</td>\n",
                                                                      "      <td>26 January 2004</td>\n",
                                                                      "      <td>NaN</td>\n",
                                                                      "      <td>NaN</td>\n",
                                                                      "      <td>NaN</td>\n",
                                                                      "      <td>2004</td>\n",
                                                                      "      <td>1</td>\n",
                                                                      "      <td>False</td>\n",
                                                                      "    </tr>\n",
                                                                      "    <tr>\n",
                                                                      "      <th>1</th>\n",
                                                                      "      <td>International Research &amp; Exchanges Board (IREX...</td>\n",
                                                                      "      <td>Jan 7, 2004</td>\n",
                                                                      "      <td>Full-time Community Connections Intern (paid i...</td>\n",
                                                                      "      <td>International Research &amp; Exchanges Board (IREX)</td>\n",
                                                                      "      <td>NaN</td>\n",
                                                                      "      <td>NaN</td>\n",
                                                                      "      <td>NaN</td>\n",
                                                                      "      <td>NaN</td>\n",
                                                                      "      <td>NaN</td>\n",
                                                                      "      <td>3 months</td>\n",
                                                                      "      <td>...</td>\n",
                                                                      "      <td>NaN</td>\n",
                                                                      "      <td>Please submit a cover letter and resume to:\\r\\...</td>\n",
                                                                      "      <td>NaN</td>\n",
                                                                      "      <td>12 January 2004</td>\n",
                                                                      "      <td>NaN</td>\n",
                                                                      "      <td>The International Research &amp; Exchanges Board (...</td>\n",
                                                                      "      <td>NaN</td>\n",
                                                                      "      <td>2004</td>\n",
                                                                      "      <td>1</td>\n",
                                                                      "      <td>False</td>\n",
                                                                      "    </tr>\n",
                                                                      "    <tr>\n",
                                                                      "      <th>2</th>\n",
                                                                      "      <td>Caucasus Environmental NGO Network (CENN)\\r\\nJ...</td>\n",
                                                                      "      <td>Jan 7, 2004</td>\n",
                                                                      "      <td>Country Coordinator</td>\n",
                                                                      "      <td>Caucasus Environmental NGO Network (CENN)</td>\n",
                                                                      "      <td>NaN</td>\n",
                                                                      "      <td>NaN</td>\n",
                                                                      "      <td>NaN</td>\n",
                                                                      "      <td>NaN</td>\n",
                                                                      "      <td>NaN</td>\n",
                                                                      "      <td>Renewable annual contract\\r\\nPOSITION</td>\n",
                                                                      "      <td>...</td>\n",
                                                                      "      <td>NaN</td>\n",
                                                                      "      <td>Please send resume or CV toursula.kazarian@......</td>\n",
                                                                      "      <td>NaN</td>\n",
                                                                      "      <td>20 January 2004\\r\\nSTART DATE:  February 2004</td>\n",
                                                                      "      <td>NaN</td>\n",
                                                                      "      <td>The Caucasus Environmental NGO Network is a\\r\\...</td>\n",
                                                                      "      <td>NaN</td>\n",
                                                                      "      <td>2004</td>\n",
                                                                      "      <td>1</td>\n",
                                                                      "      <td>False</td>\n",
                                                                      "    </tr>\n",
                                                                      "    <tr>\n",
                                                                      "      <th>3</th>\n",
                                                                      "      <td>Manoff Group\\r\\nJOB TITLE:  BCC Specialist\\r\\n...</td>\n",
                                                                      "      <td>Jan 7, 2004</td>\n",
                                                                      "      <td>BCC Specialist</td>\n",
                                                                      "      <td>Manoff Group</td>\n",
                                                                      "      <td>NaN</td>\n",
                                                                      "      <td>NaN</td>\n",
                                                                      "      <td>NaN</td>\n",
                                                                      "      <td>NaN</td>\n",
                                                                      "      <td>NaN</td>\n",
                                                                      "      <td>NaN</td>\n",
                                                                      "      <td>...</td>\n",
                                                                      "      <td>NaN</td>\n",
                                                                      "      <td>Please send cover letter and resume to Amy\\r\\n...</td>\n",
                                                                      "      <td>NaN</td>\n",
                                                                      "      <td>23 January 2004\\r\\nSTART DATE:  Immediate</td>\n",
                                                                      "      <td>NaN</td>\n",
                                                                      "      <td>NaN</td>\n",
                                                                      "      <td>NaN</td>\n",
                                                                      "      <td>2004</td>\n",
                                                                      "      <td>1</td>\n",
                                                                      "      <td>False</td>\n",
                                                                      "    </tr>\n",
                                                                      "    <tr>\n",
                                                                      "      <th>4</th>\n",
                                                                      "      <td>Yerevan Brandy Company\\r\\nJOB TITLE:  Software...</td>\n",
                                                                      "      <td>Jan 10, 2004</td>\n",
                                                                      "      <td>Software Developer</td>\n",
                                                                      "      <td>Yerevan Brandy Company</td>\n",
                                                                      "      <td>NaN</td>\n",
                                                                      "      <td>NaN</td>\n",
                                                                      "      <td>NaN</td>\n",
                                                                      "      <td>NaN</td>\n",
                                                                      "      <td>NaN</td>\n",
                                                                      "      <td>NaN</td>\n",
                                                                      "      <td>...</td>\n",
                                                                      "      <td>NaN</td>\n",
                                                                      "      <td>Successful candidates should submit\\r\\n- CV; \\...</td>\n",
                                                                      "      <td>NaN</td>\n",
                                                                      "      <td>20 January 2004, 18:00</td>\n",
                                                                      "      <td>NaN</td>\n",
                                                                      "      <td>NaN</td>\n",
                                                                      "      <td>NaN</td>\n",
                                                                      "      <td>2004</td>\n",
                                                                      "      <td>1</td>\n",
                                                                      "      <td>True</td>\n",
                                                                      "    </tr>\n",
                                                                      "  </tbody>\n",
                                                                      "</table>\n",
                                                                      "<p>5 rows × 24 columns</p>\n",
                                                                      "</div>"
                                                            ],
                                                            "text/plain": [
                                                                      "                                             jobpost          date  \\\n",
                                                                      "0  AMERIA Investment Consulting Company\\r\\nJOB TI...   Jan 5, 2004   \n",
                                                                      "1  International Research & Exchanges Board (IREX...   Jan 7, 2004   \n",
                                                                      "2  Caucasus Environmental NGO Network (CENN)\\r\\nJ...   Jan 7, 2004   \n",
                                                                      "3  Manoff Group\\r\\nJOB TITLE:  BCC Specialist\\r\\n...   Jan 7, 2004   \n",
                                                                      "4  Yerevan Brandy Company\\r\\nJOB TITLE:  Software...  Jan 10, 2004   \n",
                                                                      "\n",
                                                                      "                                               Title  \\\n",
                                                                      "0                            Chief Financial Officer   \n",
                                                                      "1  Full-time Community Connections Intern (paid i...   \n",
                                                                      "2                                Country Coordinator   \n",
                                                                      "3                                     BCC Specialist   \n",
                                                                      "4                                 Software Developer   \n",
                                                                      "\n",
                                                                      "                                           Company AnnouncementCode Term  \\\n",
                                                                      "0             AMERIA Investment Consulting Company              NaN  NaN   \n",
                                                                      "1  International Research & Exchanges Board (IREX)              NaN  NaN   \n",
                                                                      "2        Caucasus Environmental NGO Network (CENN)              NaN  NaN   \n",
                                                                      "3                                     Manoff Group              NaN  NaN   \n",
                                                                      "4                           Yerevan Brandy Company              NaN  NaN   \n",
                                                                      "\n",
                                                                      "  Eligibility Audience StartDate                               Duration  ...  \\\n",
                                                                      "0         NaN      NaN       NaN                                    NaN  ...   \n",
                                                                      "1         NaN      NaN       NaN                               3 months  ...   \n",
                                                                      "2         NaN      NaN       NaN  Renewable annual contract\\r\\nPOSITION  ...   \n",
                                                                      "3         NaN      NaN       NaN                                    NaN  ...   \n",
                                                                      "4         NaN      NaN       NaN                                    NaN  ...   \n",
                                                                      "\n",
                                                                      "  Salary                                       ApplicationP OpeningDate  \\\n",
                                                                      "0    NaN  To apply for this position, please submit a\\r\\...         NaN   \n",
                                                                      "1    NaN  Please submit a cover letter and resume to:\\r\\...         NaN   \n",
                                                                      "2    NaN  Please send resume or CV toursula.kazarian@......         NaN   \n",
                                                                      "3    NaN  Please send cover letter and resume to Amy\\r\\n...         NaN   \n",
                                                                      "4    NaN  Successful candidates should submit\\r\\n- CV; \\...         NaN   \n",
                                                                      "\n",
                                                                      "                                        Deadline Notes  \\\n",
                                                                      "0                                26 January 2004   NaN   \n",
                                                                      "1                                12 January 2004   NaN   \n",
                                                                      "2  20 January 2004\\r\\nSTART DATE:  February 2004   NaN   \n",
                                                                      "3      23 January 2004\\r\\nSTART DATE:  Immediate   NaN   \n",
                                                                      "4                         20 January 2004, 18:00   NaN   \n",
                                                                      "\n",
                                                                      "                                              AboutC Attach  Year Month     IT  \n",
                                                                      "0                                                NaN    NaN  2004     1  False  \n",
                                                                      "1  The International Research & Exchanges Board (...    NaN  2004     1  False  \n",
                                                                      "2  The Caucasus Environmental NGO Network is a\\r\\...    NaN  2004     1  False  \n",
                                                                      "3                                                NaN    NaN  2004     1  False  \n",
                                                                      "4                                                NaN    NaN  2004     1   True  \n",
                                                                      "\n",
                                                                      "[5 rows x 24 columns]"
                                                            ]
                                                  },
                                                  "execution_count": 9,
                                                  "metadata": {},
                                                  "output_type": "execute_result"
                                        },
                                        {
                                                  "name": "stdout",
                                                  "output_type": "stream",
                                                  "text": [
                                                            "\u001b[0;31mSignature:\u001b[0m \u001b[0mdg\u001b[0m\u001b[0;34m.\u001b[0m\u001b[0mget_armenian_job_adverts\u001b[0m\u001b[0;34m(\u001b[0m\u001b[0;34m)\u001b[0m \u001b[0;34m->\u001b[0m \u001b[0mpandas\u001b[0m\u001b[0;34m.\u001b[0m\u001b[0mcore\u001b[0m\u001b[0;34m.\u001b[0m\u001b[0mframe\u001b[0m\u001b[0;34m.\u001b[0m\u001b[0mDataFrame\u001b[0m\u001b[0;34m\u001b[0m\u001b[0;34m\u001b[0m\u001b[0m\n",
                                                            "\u001b[0;31mDocstring:\u001b[0m\n",
                                                            "Get Armenian job adverts data posted from 2004 to 2015.\n",
                                                            "\n",
                                                            "This data was sourced from the following website: https://www.kaggle.com/datasets/madhab/jobposts\n",
                                                            "\n",
                                                            "The data includes information such as:\n",
                                                            "    - jobpost: the original job post\n",
                                                            "    - Title: the title of the job\n",
                                                            "    - Company: the company that posted the job\n",
                                                            "    - AnnouncementCode: the announcement code of the job\n",
                                                            "    - Term: the term of the job\n",
                                                            "    - Eligibility: the eligibility of the job\n",
                                                            "    - Audience: the audience of the job\n",
                                                            "    - StartDate: the start date of the job\n",
                                                            "    - Location: the location of the job\n",
                                                            "\n",
                                                            "Returns:\n",
                                                            "    pd.DataFrame: A pandas dataframe containing Armenian job adverts data.\n",
                                                            "\u001b[0;31mFile:\u001b[0m      /var/folders/cq/9gxjkt2j2g1c0cfhjb2qtz000000gn/T/ipykernel_47912/206508154.py\n",
                                                            "\u001b[0;31mType:\u001b[0m      method"
                                                  ]
                                        }
                              ],
                              "source": [
                                        "#To better understand the data, let's take a look at the dataset description by calling help on the data getter method\n",
                                        "\n",
                                        "dg.get_armenian_job_adverts?\n",
                                        "\n",
                                        "#Looks like there's a lot of rich information there. Let's take a look at a sample of the data itself.\n",
                                        "\n",
                                        "job_adverts.head(5)"
                              ]
                    },
                    {
                              "cell_type": "code",
                              "execution_count": 10,
                              "metadata": {},
                              "outputs": [
                                        {
                                                  "name": "stdout",
                                                  "output_type": "stream",
                                                  "text": [
                                                            "there are 0 missing values in the jobpost column\n",
                                                            "99.43% of job posts in the jobpost are unique\n",
                                                            "there are 0 missing values in the date column\n",
                                                            " \n",
                                                            "-----------------------------------here is an example of job advert text:-----------------------------------\n",
                                                            " \n",
                                                            "['ArmenTel CJSC\\r\\nTITLE:  Head of Large Business Division\\r\\nLOCATION:  Yerevan, Armenia\\r\\nJOB DESCRIPTION:  N/A\\r\\nJOB RESPONSIBILITIES:\\r\\n- Realize control over service provision for corporate clients of the\\r\\nCompany in accordance with acting procedures, instructions and schemes;\\r\\n- Organize and control the realization of plans according to the approved\\r\\nkey performance indicators;\\r\\n- Organize the process of proactive search and attraction of potential\\r\\ncorporate clients;\\r\\n- Provide qualitative service and offer more profitable tariffs and\\r\\nservices for increasing the loyalty of corporate clients;\\r\\n- Provide profit increase and outflow minimization from the cooperation\\r\\nwith key clients in the frame of his/ her responsibilities;\\r\\n- Provide timely reporting in accordance with internal reporting\\r\\nsystems;\\r\\n- Control organization and conducting of presentations on Companys\\r\\nservices, contract signing and sales documentation processing.\\r\\nREQUIRED QUALIFICATIONS:\\r\\n- University degree;\\r\\n- At least 3 years of experience in sales;\\r\\n- At least 1 year of managerial experience;\\r\\n- Established network with key market performance;\\r\\n- Knowledge of the management basics, development strategies and\\r\\nbusiness-plan writing;\\r\\n- Knowledge of telecommunication and basic sales skills;\\r\\n- Experience in working with external clients;\\r\\n- Presentation skills;\\r\\n- Reporting and business writing experience;\\r\\n- Excellent communication skills and ability to work with people in\\r\\nconflict situations;\\r\\n- Team building skills;\\r\\n- Ability to work under stress;\\r\\n- Initiative personality;\\r\\n- Advanced computer skills: experience in working with MS Office;\\r\\n- Fluency in Armenian, Russian and English languages.\\r\\nREMUNERATION/ SALARY:  Negotiable salary, full medical insurance,\\r\\nprofessional training.\\r\\nAPPLICATION PROCEDURES:  Qualified and interested candidates are kindly\\r\\nrequested to submit CV/ Resume in Russian, Armenian or English languages\\r\\nto: 2 Aharonyan Str., Yerevan 0014, or by e-mail: hrm@... . In the\\r\\nsubject line of your e-mail message please mention the title of the\\r\\nposition you are applying for. Only short-listed candidates will be\\r\\ncontacted.\\r\\nPlease clearly mention in your application letter that you learned of\\r\\nthis job opportunity through Career Center and mention the URL of its\\r\\nwebsite - www.careercenter.am, Thanks.\\r\\nOPENING DATE:  11 October 2011\\r\\nAPPLICATION DEADLINE:  02 November 2011\\r\\n----------------------------------\\r\\nTo place a free posting for job or other career-related opportunities\\r\\navailable in your organization, just go to the www.careercenter.am\\r\\nwebsite and follow the \"Post an Announcement\" link.']\n",
                                                            " \n",
                                                            "-----------------------------------here is an example of a job date:-----------------------------------\n",
                                                            " \n",
                                                            "['Jan 22, 2007']\n"
                                                  ]
                                        }
                              ],
                              "source": [
                                        "# While there's a lot of information in this dataset, the jobpost and date posted are key to analysis. Let's get a better sense of those columns:\n",
                                        "\n",
                                        "print(f\"there are {job_adverts.jobpost.isna().sum()} missing values in the jobpost column\")\n",
                                        "\n",
                                        "print(f\"{round(job_adverts.jobpost.nunique()/len(job_adverts)*100, 2)}% of job posts in the jobpost are unique\")\n",
                                        "\n",
                                        "print(f\"there are {job_adverts.date\t.isna().sum()} missing values in the date column\")\n",
                                        "\n",
                                        "\n",
                                        "#Great! there are no missing values for either columns and almost all job postings are unique. \n",
                                        "# Let's take a look at an example:\n",
                                        "print(' ')\n",
                                        "print(\"-----------------------------------here is an example of job advert text:-----------------------------------\")\n",
                                        "print(' ')\n",
                                        "print(job_adverts.jobpost.sample(1).values)\n",
                                        "print(' ')\n",
                                        "print(\"-----------------------------------here is an example of a job date:-----------------------------------\")\n",
                                        "print(' ')\n",
                                        "print(job_adverts.date.sample(1).values)"
                              ]
                    },
                    {
                              "cell_type": "code",
                              "execution_count": 11,
                              "metadata": {},
                              "outputs": [],
                              "source": [
                                        "#Looks like there are some funky characters we will want to clean up in the job advert text.\n",
                                        "#Also, the date column is not in a datetime format. Let's clean that up as well. \n",
                                        "\n",
                                        "# Let's do so by calling the clean_job_advert and clean_date functions we defined in the llm_utils script.\n",
                                        "# We will also drop duplicate jobpost values and create a job_id column using the index.\n",
                                        "\n",
                                        "job_adverts = (job_adverts\n",
                                        "                    #drop duplicates\n",
                                        "                    .dropna(subset=['jobpost, date'])\n",
                                        "                    #clean jobpost column\n",
                                        "                    .assign(clean_jobpost=lambda x: x.jobpost.apply(lu.clean_job_advert))\n",
                                        "                    #create jobid column\n",
                                        "                    .assign(job_id=lambda x: x.index)\n",
                                        "                    #clean date column\n",
                                        "                    .assign(clean_date=lambda x: x.date.apply(lu.clean_date)))\n",
                                        "\n",
                                        "# Finally, lets create a job_adverts_dict that we can use to map job_ids to clean job adverts.\n",
                                        "job_adverts_dict = job_adverts.set_index('job_id').clean_jobpost.to_dict()               "
                              ]
                    },
                    {
                              "attachments": {},
                              "cell_type": "markdown",
                              "metadata": {},
                              "source": [
                                        "Great! Now that we've inspected our data and cleaned up the job text slightly, lets use langchain to:\n",
                                        "\n",
                                        "    1) Extrac"
                              ]
                    }
          ],
          "metadata": {
                    "kernelspec": {
                              "display_name": "dap_taltech",
                              "language": "python",
                              "name": "python3"
                    },
                    "language_info": {
                              "codemirror_mode": {
                                        "name": "ipython",
                                        "version": 3
                              },
                              "file_extension": ".py",
                              "mimetype": "text/x-python",
                              "name": "python",
                              "nbconvert_exporter": "python",
                              "pygments_lexer": "ipython3",
                              "version": "3.9.16"
                    },
                    "orig_nbformat": 4,
                    "vscode": {
                              "interpreter": {
                                        "hash": "10280fdd29a5f790370cdf255c4a66c215f248ca8aa68590910e05113a9680f8"
                              }
                    }
          },
          "nbformat": 4,
          "nbformat_minor": 2
}
