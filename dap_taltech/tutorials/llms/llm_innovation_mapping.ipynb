{
          "cells": [
                    {
                              "attachments": {},
                              "cell_type": "markdown",
                              "metadata": {},
                              "source": [
                                        "## 👋 Using LLMs for innovation mapping\n",
                                        "\n",
                                        "The **key goal** of this tutorial is to use LLMs and LangChain to solve a fictional innovation mapping scenario. \n"
                              ]
                    },
                    {
                              "cell_type": "code",
                              "execution_count": 1,
                              "metadata": {},
                              "outputs": [],
                              "source": [
                                        "import langchain\n",
                                        "\n",
                                        "from dotenv import load_dotenv\n",
                                        "from pathlib import Path\n",
                                        "import os\n",
                                        "import pandas as pd\n",
                                        "\n",
                                        "from dap_taltech.utils.data_getters import DataGetter\n",
                                        "from dap_taltech import logger\n",
                                        "import llm_utils as lu"
                              ]
                    },
                    {
                              "attachments": {},
                              "cell_type": "markdown",
                              "metadata": {},
                              "source": [
                                        "### Preamble\n",
                                        "\n",
                                        "The code block below is the preamble to this tutorial so that:\n",
                                        "\n",
                                        "- we install our dependencies;\n",
                                        "- have access to our datasets; and \n",
                                        "- our OpenAI API key.  "
                              ]
                    },
                    {
                              "cell_type": "code",
                              "execution_count": 2,
                              "metadata": {},
                              "outputs": [],
                              "source": [
                                        "os.system(\n",
                                        "    f\"pip install -r {Path.cwd()}/llm_requirements.txt --quiet\" #install requirements to run this notebook\n",
                                        ")\n",
                                        "\n",
                                        "load_dotenv() # load environment variables\n",
                                        "\n",
                                        "oa_key = os.environ.get('OPENAI_API_KEY') #get our open api key from our environment variable \n",
                                        "\n",
                                        "if not oa_key:\n",
                                        "    logger.error(\"No open api key found. Please set your openAI api key as an environment variable named OPENAI_API_KEY.\")"
                              ]
                    },
                    {
                              "attachments": {},
                              "cell_type": "markdown",
                              "metadata": {},
                              "source": [
                                        "To demonstrate how we can build an LLM application in a fictional innovation mapping scenario, we are going to work through the following: \n",
                                        "\n",
                                        "**Problem:** You are an innovation mapping researcher who has recently won a grant to investigate the Armenian labor market. You have been granted access to armenian online job advert postings. You are interested in tracking the change in skill demand over time.\n",
                                        "\n",
                                        "**Approach:** "
                              ]
                    },
                    {
                              "cell_type": "code",
                              "execution_count": 8,
                              "metadata": {},
                              "outputs": [
                                        {
                                                  "name": "stderr",
                                                  "output_type": "stream",
                                                  "text": [
                                                            "\u001b[94;1;1m2023-07-31 18:03:40,574 - TalTech HackWeek 2023 - INFO - Loading data from open dap-taltech s3 bucket. (206508154.py:46)\u001b[0m\n"
                                                  ]
                                        }
                              ],
                              "source": [
                                        "#First things first, lets load in our dataset\n",
                                        "\n",
                                        "dg = DataGetter(local=False) #instantiate our data getter \n",
                                        "\n",
                                        "job_adverts = dg.get_armenian_job_adverts() #get our job adverts"
                              ]
                    }
          ],
          "metadata": {
                    "kernelspec": {
                              "display_name": "dap_taltech",
                              "language": "python",
                              "name": "python3"
                    },
                    "language_info": {
                              "codemirror_mode": {
                                        "name": "ipython",
                                        "version": 3
                              },
                              "file_extension": ".py",
                              "mimetype": "text/x-python",
                              "name": "python",
                              "nbconvert_exporter": "python",
                              "pygments_lexer": "ipython3",
                              "version": "3.9.16 | packaged by conda-forge | (main, Feb  1 2023, 21:42:20) \n[Clang 14.0.6 ]"
                    },
                    "orig_nbformat": 4,
                    "vscode": {
                              "interpreter": {
                                        "hash": "10280fdd29a5f790370cdf255c4a66c215f248ca8aa68590910e05113a9680f8"
                              }
                    }
          },
          "nbformat": 4,
          "nbformat_minor": 2
}
