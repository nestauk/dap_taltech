{
 "cells": [
  {
   "cell_type": "markdown",
   "metadata": {},
   "source": [
    "## Welcome to the deep learning tutorial 👋!\n",
    "\n",
    "The **goals** of the tutorial are to\n",
    "\n",
    "1. Learn about the building blocks of PyTorch, from layer creation to regularisation and model training.\n",
    "2. Train feed-forward neural networks on NLP tasks using OpenAlex data, and visual tasks using ????.\n",
    "3. Explore how the former can be done better with sequential models, and the latter with convolutional networks.\n",
    "4. Load pre-trained language models from huggingface and use transfer learning to improve in previous tasks' outcomes.\n",
    "\n",
    "#### Documentation\n",
    "\n",
    "- [PyTorch](https://pytorch.org)\n",
    "- [huggingface](https://huggingface.co)\n",
    "\n",
    "#### Repos\n",
    "\n",
    "- [Voight, D. (2022) - Deep Learning with pyTorch Step-by-Step](https://github.com/dvgodoy/PyTorchStepByStep)\n",
    "\n",
    "#### Books\n",
    "\n",
    "- [Goodfellow et al (2016) - The Deep Learning Book](https://www.deeplearningbook.org)\n"
   ]
  },
  {
   "cell_type": "code",
   "execution_count": 1,
   "metadata": {},
   "outputs": [],
   "source": [
    "import numpy as np\n",
    "import pandas as pd\n",
    "\n",
    "import altair as alt\n",
    "import matplotlib.pyplot as plt\n",
    "import seaborn as sns\n",
    "\n",
    "from toolz import pipe\n",
    "from typing import Dict, Sequence\n",
    "\n",
    "from dap_taltech.utils.data_getters import DataGetter\n",
    "from dap_taltech import logger"
   ]
  },
  {
   "cell_type": "code",
   "execution_count": 2,
   "metadata": {},
   "outputs": [
    {
     "name": "stderr",
     "output_type": "stream",
     "text": [
      "\u001b[94;1;1m2023-07-21 15:57:44,685 - TalTech HackWeek 2023 - INFO - Loading data from /home/ampudia19/projects/dap_taltech/data/ (data_getters.py:50)\u001b[0m\n"
     ]
    }
   ],
   "source": [
    "alt.data_transformers.enable('default', max_rows=None)\n",
    "getter = DataGetter(local=True)\n",
    "data = getter.get_taltech_articles()\n",
    "data.dropna(subset=['abstract', 'cited_by_count', 'counts_by_year'], inplace=True)"
   ]
  }
 ],
 "metadata": {
  "kernelspec": {
   "display_name": "rvo",
   "language": "python",
   "name": "python3"
  },
  "language_info": {
   "codemirror_mode": {
    "name": "ipython",
    "version": 3
   },
   "file_extension": ".py",
   "mimetype": "text/x-python",
   "name": "python",
   "nbconvert_exporter": "python",
   "pygments_lexer": "ipython3",
   "version": "3.10.10"
  },
  "orig_nbformat": 4
 },
 "nbformat": 4,
 "nbformat_minor": 2
}
