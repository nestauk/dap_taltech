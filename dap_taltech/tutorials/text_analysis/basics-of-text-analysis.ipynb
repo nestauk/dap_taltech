{
 "cells": [
  {
   "cell_type": "markdown",
   "metadata": {},
   "source": [
    "## Welcome to the text analysis tutorial 👋!\n",
    "\n",
    "The **goals** of the tutorial are to:\n",
    "\n",
    "1. Understand the basics of text processing and the NLTK, Gensim, and spaCy libraries.\n",
    "2. Explore topic modelling and its different flavours using TalTech paper abstracts from OpenAlex.\n",
    "\n",
    "We will use paper abstracts from TalTech and discover various themes using topic modelling and. Below, you'll find useful resources for further reading and understanding.\n",
    "\n",
    "#### Documentation\n",
    "\n",
    "- [NLTK](https://www.nltk.org)\n",
    "- [spaCy](https://spacy.io/api/doc)\n",
    "- [tomotopy](https://bab2min.github.io/tomotopy/v/en/)\n",
    "\n",
    "#### Repos\n",
    "\n",
    "- [Uncle Steve's Big List of Text Analytics and NLP Resources](https://github.com/stepthom/text_mining_resources)\n",
    "\n",
    "#### Papers\n",
    "\n",
    "- [Gentzkow M. et al. (2019) - Text as Data](https://www.aeaweb.org/articles?id=10.1257/jel.20181020)\n",
    "\n",
    "#### Books\n",
    "\n",
    "- [Jurafsky, D. and Martin, J. (2023) - Speech and Language Processing](https://web.stanford.edu/~jurafsky/slp3/)\n",
    "- [Manning et al. (2008) - Introduction to Information Retrieval](https://nlp.stanford.edu/IR-book/information-retrieval-book.html)"
   ]
  },
  {
   "cell_type": "markdown",
   "metadata": {},
   "source": [
    "We start off by importing essential libraries for data manipulation and visualizations. We also set some global configurations and initialize our data getter from the dap_taltech library."
   ]
  },
  {
   "cell_type": "code",
   "execution_count": null,
   "metadata": {},
   "outputs": [],
   "source": [
    "import os, warnings\n",
    "warnings.filterwarnings(\"ignore\", category=DeprecationWarning) \n",
    "\n",
    "import numpy as np\n",
    "import pandas as pd\n",
    "\n",
    "import altair as alt\n",
    "import matplotlib.pyplot as plt\n",
    "import seaborn as sns\n",
    "\n",
    "from toolz import pipe\n",
    "from typing import Dict, Sequence\n",
    "\n",
    "from dap_taltech.utils.data_getters import DataGetter\n",
    "from dap_taltech import logger\n",
    "\n",
    "from tqdm import tqdm\n",
    "tqdm.pandas()\n",
    "\n",
    "os.environ[\"TOKENIZERS_PARALLELISM\"] = \"false\"\n",
    "alt.data_transformers.enable('default', max_rows=None)"
   ]
  },
  {
   "cell_type": "markdown",
   "metadata": {},
   "source": [
    "Using the getter, we load articles related to TalTech. We then clean our data by removing any articles that do not contain an abstract, citation count, or year counts. We reset our dataframe's index for good measure."
   ]
  },
  {
   "cell_type": "code",
   "execution_count": null,
   "metadata": {},
   "outputs": [],
   "source": [
    "getter = DataGetter(local=True)\n",
    "data = getter.get_oa_articles(institution=\"TT\")\n",
    "data.dropna(subset=['abstract', 'cited_by_count', 'counts_by_year'], inplace=True)\n",
    "data.reset_index(drop=True, inplace=True)"
   ]
  },
  {
   "cell_type": "markdown",
   "metadata": {},
   "source": [
    "#### Exploring the data"
   ]
  },
  {
   "cell_type": "markdown",
   "metadata": {},
   "source": [
    "Let's begin by exploring our data to understand its structure and content better. We're looking at the different column types and the first few rows of our dataset."
   ]
  },
  {
   "cell_type": "code",
   "execution_count": null,
   "metadata": {},
   "outputs": [],
   "source": [
    "data.info()"
   ]
  },
  {
   "cell_type": "code",
   "execution_count": null,
   "metadata": {},
   "outputs": [],
   "source": [
    "data.head(2)"
   ]
  },
  {
   "cell_type": "markdown",
   "metadata": {},
   "source": [
    "In the next set of cells, we will be preparing our data for visualization, showing how to deal with nested dictionary objects in pandas Series. \n",
    "\n",
    "🔥**Note**🔥: Some of these are relatively slow, so by default they appear as raw code. Convert them to Python and run them to plot the figures.\n",
    "\n",
    "As a first exmaple, let's count the number of publications per year and compute the log-scaled citation counts. The utility function `hist_plot` will then be used to display the distribution of publications and citations."
   ]
  },
  {
   "cell_type": "code",
   "execution_count": null,
   "metadata": {},
   "outputs": [],
   "source": [
    "# Prepare the data for the first plot\n",
    "publications_over_time = data['publication_date'].dt.year.value_counts().reset_index()\n",
    "publications_over_time.columns = ['Year', 'Number of Publications']\n",
    "publications_over_time = publications_over_time.sort_values('Year')\n",
    "\n",
    "# Prepare the data for the second plot\n",
    "citations = data['cited_by_count'].apply(lambda x: np.log10(x + 1)).reset_index()\n",
    "citations.columns = ['index', 'Number of Citations (Log Scale)']"
   ]
  },
  {
   "cell_type": "raw",
   "metadata": {},
   "source": [
    "from utils import hist_plot # can take roughly 30 seconds to run\n",
    "hist_plot(publications_over_time, citations, bins=30)"
   ]
  },
  {
   "cell_type": "markdown",
   "metadata": {},
   "source": [
    "We explode the counts_by_year column to expose the nested citation count data for each year. We then proceed to filter out rows with citation counts less than 20, and sort our data by paper ID and year. Next, we compute the cumulative sum of citations for each paper over the years. The first few rows of the transformed dataset are then displayed."
   ]
  },
  {
   "cell_type": "code",
   "execution_count": null,
   "metadata": {},
   "outputs": [],
   "source": [
    "# explode \"counts_by_year\" and extract a dataframe with columns id, year, count (the last two from the dictionary of the exploded reuslts)\n",
    "counts_by_year = data.explode(column=\"counts_by_year\")[[\"id\", \"display_name\", \"counts_by_year\", \"cited_by_count\"]].dropna()\n",
    "\n",
    "# select only if cited_by_count > 20\n",
    "counts_by_year = counts_by_year[counts_by_year[\"cited_by_count\"] > 20]\n",
    "\n",
    "# rename cited_by_count to avoid confusion and log+1 scale it\n",
    "counts_by_year = counts_by_year.rename(columns={\"cited_by_count\": \"cited_by_count_total\"})\n",
    "# counts_by_year[\"cited_by_count_total\"] = np.log10(counts_by_year[\"cited_by_count_total\"] + 1)\n",
    "\n",
    "# split \"counts_by_year\" into cited_by_count and year and transform them to int\n",
    "counts_by_year = pd.concat([counts_by_year.drop(['counts_by_year'], axis=1), counts_by_year['counts_by_year'].apply(pd.Series)], axis=1)\n",
    "\n",
    "# sort the data by id and year\n",
    "counts_by_year = counts_by_year.sort_values(by=['id', 'year'])\n",
    "\n",
    "# calculate the cumulative sum of citations per id per year\n",
    "counts_by_year['cumulative_citations'] = counts_by_year.groupby(['id'])['cited_by_count'].cumsum()\n",
    "\n",
    "# transform cited_by_count to log + 1 scale\n",
    "# counts_by_year[\"cited_by_count\"] = np.log10(counts_by_year[\"cited_by_count\"] + 1)\n",
    "\n",
    "# show head\n",
    "counts_by_year.head(10)"
   ]
  },
  {
   "cell_type": "raw",
   "metadata": {},
   "source": [
    "from utils import ts_citation_plot\n",
    "ts_citation_plot(counts_by_year)"
   ]
  },
  {
   "cell_type": "markdown",
   "metadata": {},
   "source": [
    "We explode and normalize the concepts column to extract concepts associated with each paper. We then add several new columns, such as the year of publication and proportion of each concept within that year, as well as a weighted proportion adjusted by the number of citations. The first few rows of the transformed dataset are then displayed."
   ]
  },
  {
   "cell_type": "code",
   "execution_count": null,
   "metadata": {},
   "outputs": [],
   "source": [
    "def explode_and_normalise(data: pd.DataFrame, column: str, col_selection: Sequence[str], rename_dict: Dict[str, str]) -> pd.DataFrame:\n",
    "    \"\"\"Explode a column of a dataframe and extract a dataframe with columns id, display_name, concepts, cited_by_count, publication_date\n",
    "\n",
    "    Args:\n",
    "        data (pd.DataFrame): The dataframe to explode\n",
    "        column (str): Column to explode\n",
    "        col_selection (Sequence[str]): Sequence of columns to select\n",
    "        rename_dict (Dict[str, str]): Rename dictionary\n",
    "\n",
    "    Returns:\n",
    "        pd.DataFrame: A dataframe with columns id, display_name, concepts, cited_by_count, publication_date\n",
    "    \"\"\"    \n",
    "\n",
    "    data_exploded = data.explode(column=column)[col_selection].dropna().rename(columns=rename_dict).reset_index(drop=True)\n",
    "    return pd.concat([data_exploded.drop([column], axis=1), pd.json_normalize(data_exploded[column])], axis=1)\n",
    "\n",
    "concepts_by_year = explode_and_normalise(\n",
    "    data=data, \n",
    "    column=\"concepts\", \n",
    "    col_selection=[\"id\", \"display_name\", \"concepts\", \"cited_by_count\", \"publication_date\"], \n",
    "    rename_dict={\"display_name\": \"display_article_name\", \"id\": \"oa_id\"}\n",
    ")\n",
    "\n",
    "# extract year variable, create total citations per year\n",
    "concepts_by_year['year'] = concepts_by_year['publication_date'].dt.year\n",
    "concepts_by_year['total_citations'] = concepts_by_year.groupby(['year'])['cited_by_count'].transform('sum')\n",
    "\n",
    "# get proportion of display_name published in a given year\n",
    "concepts_by_year['proportion'] = 1 / (1 + concepts_by_year['total_citations'])\n",
    "\n",
    "# get a weighted proportion, moderated by the number of citations\n",
    "concepts_by_year['weighted_proportion'] = concepts_by_year['cited_by_count'] / concepts_by_year['total_citations']\n",
    "\n",
    "# create year and display_name groupbys, add proportion and weighted_proportion\n",
    "concepts_by_year_grouped = concepts_by_year.groupby(['year', 'display_name']).agg({'proportion': 'sum', 'weighted_proportion': 'sum'}).reset_index()\n",
    "\n",
    "# drop if proportion is one (single papers in year)\n",
    "concepts_by_year_grouped = concepts_by_year_grouped[concepts_by_year_grouped['proportion'] != 1]\n",
    "\n",
    "# show head\n",
    "concepts_by_year.head(10)\n"
   ]
  },
  {
   "cell_type": "raw",
   "metadata": {},
   "source": [
    "from utils import ts_proportion_plot\n",
    "ts_proportion_plot(concepts_by_year_grouped)"
   ]
  },
  {
   "cell_type": "markdown",
   "metadata": {},
   "source": [
    "Here, we calculate the occurrence counts of each concept, and display the 500 most frequent ones using the clusters_keywords_plot utility."
   ]
  },
  {
   "cell_type": "code",
   "execution_count": null,
   "metadata": {},
   "outputs": [],
   "source": [
    "# Get counts of concepts\n",
    "concept_counts = pipe(\n",
    "    concepts_by_year.groupby(['display_name']).agg({'year': 'count'}).reset_index().rename(columns={\"year\": \"count\"}),\n",
    "    lambda df: df.sort_values(by=['count'], ascending=False).head(500).reset_index(drop=True)\n",
    ")"
   ]
  },
  {
   "cell_type": "raw",
   "metadata": {},
   "source": [
    "from utils import clusters_keywords_plot\n",
    "clusters_keywords_plot(concept_counts)"
   ]
  },
  {
   "cell_type": "markdown",
   "metadata": {},
   "source": [
    "We apply similar exploding and normalization steps to the authorships column, allowing us to extract detailed information about authors and their associated institutions. We then focus on authors associated with TalTech and compute their cumulative citation counts."
   ]
  },
  {
   "cell_type": "code",
   "execution_count": null,
   "metadata": {},
   "outputs": [],
   "source": [
    "# explode \"authorships\" and extract a dataframe with columns id, display_name, authorships, cited_by_count, publication_date\n",
    "authors = explode_and_normalise(\n",
    "    data=data,\n",
    "    column=\"authorships\",\n",
    "    col_selection=[\"id\", \"display_name\", \"authorships\", \"cited_by_count\", \"publication_date\"],\n",
    "    rename_dict={\"display_name\": \"display_article_name\", \"id\": \"oa_id\"}\n",
    ")\n",
    "\n",
    "# explode again for nested institutions\n",
    "authors = explode_and_normalise(\n",
    "    data=authors,\n",
    "    column=\"institutions\",\n",
    "    col_selection=[\n",
    "        \"oa_id\", \"display_article_name\", \"cited_by_count\", \"publication_date\",\n",
    "        \"author.display_name\", \"raw_affiliation_string\", \"institutions\"\n",
    "    ],\n",
    "    rename_dict={\"author.display_name\": \"author_name\"}\n",
    ")\n",
    "\n",
    "# select authors with Tallin University of Technology ID \"https://openalex.org/I111112146\"\n",
    "authors = authors[authors[\"id\"] == \"https://openalex.org/I111112146\"]\n",
    "\n",
    "# add cumulative citation count \n",
    "authors['cumulative_citations'] = authors.sort_values(by=[\"author_name\", \"publication_date\"]).groupby('author_name')['cited_by_count'].cumsum() + 1\n",
    "\n",
    "# create a copy of the dataframe to calculate proportions\n",
    "authors_by_year = authors.copy()\n",
    "\n",
    "# extract year variable, create total citations per year\n",
    "authors_by_year['year'] = authors_by_year['publication_date'].dt.year\n",
    "authors_by_year['total_citations'] = authors_by_year.groupby(['year'])['cited_by_count'].transform('sum')\n",
    "\n",
    "# get proportion of display_name published in a given year\n",
    "authors_by_year['proportion'] = 1 / (1 + authors_by_year['total_citations'])\n",
    "\n",
    "# get a weighted proportion, moderated by the number of citations\n",
    "authors_by_year['weighted_proportion'] = authors_by_year['cited_by_count'] / authors_by_year['total_citations']\n",
    "\n",
    "# create year and display_name groupbys, add proportion and weighted_proportion\n",
    "authors_by_year = authors_by_year.groupby(['year', 'author_name']).agg({'proportion': 'sum', 'weighted_proportion': 'sum'}).reset_index()\n",
    "\n",
    "# drop if proportion is one (single papers in year)\n",
    "authors_by_year = authors_by_year[authors_by_year['proportion'] != 1]\n",
    "\n",
    "authors.head(5)"
   ]
  },
  {
   "cell_type": "raw",
   "metadata": {},
   "source": [
    "from utils import ts_authors_plot\n",
    "ts_authors_plot(authors, authors_by_year)"
   ]
  },
  {
   "cell_type": "markdown",
   "metadata": {},
   "source": [
    "Let's now display the top 10 authors with the most publications."
   ]
  },
  {
   "cell_type": "code",
   "execution_count": null,
   "metadata": {},
   "outputs": [],
   "source": [
    "authors.author_name.value_counts().head(10)"
   ]
  },
  {
   "cell_type": "markdown",
   "metadata": {},
   "source": [
    "We'll also list the top 10 authors with the highest cumulative citation counts."
   ]
  },
  {
   "cell_type": "code",
   "execution_count": null,
   "metadata": {},
   "outputs": [],
   "source": [
    "(\n",
    "    authors\n",
    "    .groupby(['author_name'])\n",
    "    .agg({'cumulative_citations': 'max'})\n",
    "    .sort_values(by=['cumulative_citations'], ascending=False)\n",
    "    .head(10)\n",
    ")"
   ]
  },
  {
   "cell_type": "markdown",
   "metadata": {},
   "source": [
    "We can calculate the total citation count for each concept, and display the top 10 most cited concepts."
   ]
  },
  {
   "cell_type": "code",
   "execution_count": null,
   "metadata": {},
   "outputs": [],
   "source": [
    "(\n",
    "    concepts_by_year\n",
    "    .groupby(['display_name'])\n",
    "    .agg({'cited_by_count': 'sum'})\n",
    "    .sort_values(by=['cited_by_count'], ascending=False)\n",
    "    .head(10)\n",
    ")"
   ]
  },
  {
   "cell_type": "markdown",
   "metadata": {},
   "source": [
    "Finally, we display the top 10 most cited concepts for each year, providing a yearly breakdown of popular topics in research."
   ]
  },
  {
   "cell_type": "code",
   "execution_count": null,
   "metadata": {},
   "outputs": [],
   "source": [
    "(\n",
    "    concepts_by_year\n",
    "    .groupby(['year', 'display_name'])\n",
    "    .agg({'cited_by_count': 'sum'})\n",
    "    .sort_values(by=['year', 'cited_by_count'], ascending=False)\n",
    "    .groupby('year')\n",
    "    .head(10)\n",
    "    .reset_index()\n",
    "    .assign(top_number=lambda df: df.groupby('year').cumcount() + 1)\n",
    "    .pivot(columns='year', index='top_number', values='display_name')\n",
    ")"
   ]
  },
  {
   "cell_type": "markdown",
   "metadata": {},
   "source": [
    "## The Basics of Text Analysis\n",
    "\n",
    "In the field of Natural Language Processing (NLP), one of the first steps is often to break down and simplify text data for easier analysis. Let's consider an abstract from our dataset and demonstrate some initial text processing methods."
   ]
  },
  {
   "cell_type": "code",
   "execution_count": null,
   "metadata": {},
   "outputs": [],
   "source": [
    "text = data.abstract.iloc[-1]\n",
    "print(text)"
   ]
  },
  {
   "cell_type": "markdown",
   "metadata": {},
   "source": [
    "#### Pre-processing and tokenization - Built-in tools"
   ]
  },
  {
   "cell_type": "markdown",
   "metadata": {},
   "source": [
    "##### Tokenize\n",
    "\n",
    "We start with tokenization, a foundational step in NLP that splits larger text into smaller pieces or 'tokens'."
   ]
  },
  {
   "cell_type": "code",
   "execution_count": null,
   "metadata": {},
   "outputs": [],
   "source": [
    "tokens = text.split()\n",
    "print(tokens)"
   ]
  },
  {
   "cell_type": "markdown",
   "metadata": {},
   "source": [
    "##### Remove punctuation\n",
    "\n",
    "Next, we look at punctuation. It's essential in human language to understand the meaning of sentences, but for a machine, it often adds noise rather than signal. Here's a colored printout of the original text showing punctuation in red and capitalized words in blue."
   ]
  },
  {
   "cell_type": "code",
   "execution_count": null,
   "metadata": {},
   "outputs": [],
   "source": [
    "import sys\n",
    "from termcolor import colored, cprint\n",
    "\n",
    "split_text = [i for j in text.split() for i in (j, ' ')]\n",
    "col_text = [\n",
    "    colored(x, 'blue') if x.isupper()\n",
    "    else colored(x, 'red') if not x.isalpha()\n",
    "    else x \n",
    "    for i in split_text for x in i\n",
    "]\n",
    "\n",
    "print(''.join(col_text))"
   ]
  },
  {
   "cell_type": "markdown",
   "metadata": {},
   "source": [
    "In the next step, we turn the text into lower case and remove punctuation to normalize our data."
   ]
  },
  {
   "cell_type": "code",
   "execution_count": null,
   "metadata": {},
   "outputs": [],
   "source": [
    "import string\n",
    "\n",
    "text = text.lower()\n",
    "text = text.translate(str.maketrans('', '', string.punctuation))\n",
    "print(text)"
   ]
  },
  {
   "cell_type": "markdown",
   "metadata": {},
   "source": [
    "##### Stopwords\n",
    "\n",
    "Moving on, we address 'stop words' - words like 'is', 'an', 'the', 'and' etc. They are the most common words in a language and usually don't carry much information. To reduce dimensionality, we often remove these from the text."
   ]
  },
  {
   "cell_type": "code",
   "execution_count": null,
   "metadata": {},
   "outputs": [],
   "source": [
    "stop_words = [\"a\", \"an\", \"the\", \"is\", \"in\", \"to\", \"it\", \"this\", \"that\", \"and\", \"of\", \"for\", \"or\", \"on\", \"with\"]\n",
    "\n",
    "split_text = [i for j in text.split() for i in (j, ' ')]\n",
    "col_text = [\n",
    "    colored(x, 'red') if x in stop_words\n",
    "    else x \n",
    "    for x in split_text\n",
    "]\n",
    "\n",
    "print(''.join(col_text))"
   ]
  },
  {
   "cell_type": "markdown",
   "metadata": {},
   "source": [
    "After removal, we apply our built-in preprocessing to an abstract, consolidating all the above steps."
   ]
  },
  {
   "cell_type": "code",
   "execution_count": null,
   "metadata": {},
   "outputs": [],
   "source": [
    "col_text = [\n",
    "    colored(x, 'white', 'on_white') if x in stop_words\n",
    "    else x \n",
    "    for x in split_text\n",
    "]\n",
    "\n",
    "print(''.join(col_text))"
   ]
  },
  {
   "cell_type": "code",
   "execution_count": null,
   "metadata": {},
   "outputs": [],
   "source": [
    "text = [word for word in text.split() if word not in stop_words]\n",
    "print(text)"
   ]
  },
  {
   "cell_type": "markdown",
   "metadata": {},
   "source": [
    "##### Putting it all together\n",
    "\n",
    "Let's collate all the individual steps in a single function, and test it on a different abstract."
   ]
  },
  {
   "cell_type": "code",
   "execution_count": null,
   "metadata": {},
   "outputs": [],
   "source": [
    "# putting all the steps above together\n",
    "def pre_process(text: str) -> Sequence[str]:\n",
    "    \"\"\"Pre-processes the text.\n",
    "    \n",
    "    Args:\n",
    "        text (str): The text to pre-process.\n",
    "        \n",
    "    Returns:\n",
    "        Sequence[str]: The pre-processed text.\n",
    "    \"\"\"    \n",
    "    # tokenize\n",
    "    text = text.split()\n",
    "\n",
    "    # convert to lower case\n",
    "    text = [word.lower() for word in text]\n",
    "\n",
    "    # remove punctuation\n",
    "    text = [word.translate(str.maketrans('', '', string.punctuation)) for word in text]\n",
    "\n",
    "    # remove non-alphabetic tokens\n",
    "    text = [word for word in text if word.isalpha()]\n",
    "\n",
    "    # filter out stop words\n",
    "    stop_words = [\"a\", \"an\", \"the\", \"is\", \"in\", \"to\", \"it\", \"this\", \"that\", \"and\", \"of\", \"for\", \"or\", \"on\", \"with\"]\n",
    "    text = [word for word in text if not word in stop_words]\n",
    "\n",
    "    return text\n"
   ]
  },
  {
   "cell_type": "code",
   "execution_count": null,
   "metadata": {},
   "outputs": [],
   "source": [
    "pre_text = data.abstract.iloc[-2]\n",
    "print(pre_text)"
   ]
  },
  {
   "cell_type": "code",
   "execution_count": null,
   "metadata": {},
   "outputs": [],
   "source": [
    "print(\n",
    "    pre_process(pre_text)\n",
    ")"
   ]
  },
  {
   "cell_type": "markdown",
   "metadata": {},
   "source": [
    "#### Pre-processing and tokenization - NLTK [🔗](https://www.nltk.org/)\n",
    "\n",
    "Transitioning to more sophisticated techniques, we explore NLTK (Natural Language Toolkit), a popular library for NLP in Python. It comes with a plethora of built-in tools, from tokenizers to sentiment analyzers. Let's use it for the same preprocessing steps."
   ]
  },
  {
   "cell_type": "code",
   "execution_count": null,
   "metadata": {},
   "outputs": [],
   "source": [
    "# import nltk\n",
    "import nltk\n",
    "nltk.download('punkt')\n",
    "nltk.download('stopwords')\n",
    "nltk.download('wordnet')\n",
    "nltk.download('vader_lexicon')\n",
    "from nltk.tokenize import word_tokenize, sent_tokenize\n",
    "from nltk.corpus import stopwords\n",
    "from nltk.stem import PorterStemmer, WordNetLemmatizer"
   ]
  },
  {
   "cell_type": "markdown",
   "metadata": {},
   "source": [
    "Following the same steps as before - tokenization, stop words and punctuation removal - NLTK also offers lemmatization. It's a process of reducing words to their base or root form (like 'running' to 'run') which can help to combine similar words together."
   ]
  },
  {
   "cell_type": "code",
   "execution_count": null,
   "metadata": {},
   "outputs": [],
   "source": [
    "def preprocess_text(text: str) -> str:\n",
    "    \"\"\"Preprocesses the text.\n",
    "\n",
    "    Args:\n",
    "        text (str): The text to preprocess.\n",
    "\n",
    "    Returns:\n",
    "        str: The preprocessed text.\n",
    "    \"\"\"    \n",
    "    \n",
    "    # Tokenize the text\n",
    "    tokens = word_tokenize(text.lower())\n",
    "\n",
    "    # Remove stop words and punctuation\n",
    "    stop_words = set(stopwords.words('english'))\n",
    "    tokens = [token for token in tokens if token not in stop_words and token.isalpha()]\n",
    "\n",
    "    # Lemmatize the tokens\n",
    "    lemmatizer = WordNetLemmatizer()\n",
    "    tokens = [lemmatizer.lemmatize(token) for token in tokens]\n",
    "\n",
    "    # Return the preprocessed text\n",
    "    return ' '.join(tokens)"
   ]
  },
  {
   "cell_type": "markdown",
   "metadata": {},
   "source": [
    "Let's see NLTK preprocessing in action on another abstract from our dataset."
   ]
  },
  {
   "cell_type": "code",
   "execution_count": null,
   "metadata": {},
   "outputs": [],
   "source": [
    "text = data.abstract.iloc[-1]\n",
    "print(text)"
   ]
  },
  {
   "cell_type": "code",
   "execution_count": null,
   "metadata": {},
   "outputs": [],
   "source": [
    "print(preprocess_text(text))"
   ]
  },
  {
   "cell_type": "markdown",
   "metadata": {},
   "source": [
    "🛸 **TASK**: What other preprocessing techniques can be applied to text data, and how can they impact the subsequent analysis?"
   ]
  },
  {
   "cell_type": "code",
   "execution_count": null,
   "metadata": {},
   "outputs": [],
   "source": [
    "# Prompt: Browse through the SpaCy preprocessing module and experiment with different techniques \n",
    "# like lowercasing, punctuation removal, etc. How do these changes impact a sample text analysis?"
   ]
  },
  {
   "cell_type": "markdown",
   "metadata": {},
   "source": [
    "#### Pre-processing and tokenization - spaCy [🔗](https://spacy.io/api/doc/)\n",
    "\n",
    "Lastly, we introduce spaCy, a powerful NLP library with a lot of built-in functionalities, widely used in industry. It provides extensive linguistic resources for many languages and efficient implementations of key NLP algorithms.\n",
    "\n",
    "spaCy comes with pre-trained models for different tasks - one of which we load here - and its own versions of tokenization, lemmatization and stop word removal, among others.\n",
    "\n",
    "Remember to install the dictionary of choice, in our case `en_core_web_sm`!"
   ]
  },
  {
   "cell_type": "code",
   "execution_count": null,
   "metadata": {},
   "outputs": [],
   "source": [
    "import spacy\n",
    "\n",
    "# !spacy download en_core_web_sm\n",
    "nlp = spacy.load(\"en_core_web_sm\")"
   ]
  },
  {
   "cell_type": "markdown",
   "metadata": {},
   "source": [
    "Let's run the spaCy preprocessing on the same abstract and see the results."
   ]
  },
  {
   "cell_type": "code",
   "execution_count": null,
   "metadata": {},
   "outputs": [],
   "source": [
    "def preprocess_text(text: str) -> str:\n",
    "    \"\"\"Preprocesses the text.\n",
    "\n",
    "    Args:\n",
    "        text (str): The text to preprocess.\n",
    "\n",
    "    Returns:\n",
    "        str: The preprocessed text.\n",
    "    \"\"\"    \n",
    "    \n",
    "    # Tokenize the text\n",
    "    doc = nlp(text)\n",
    "\n",
    "    # Lemmatise, remove stop words and punctuation\n",
    "    tokens = [token.lemma_ for token in doc if not token.is_stop and not token.is_punct and token.is_alpha]\n",
    "\n",
    "    # Return the preprocessed text\n",
    "    return ' '.join(tokens)"
   ]
  },
  {
   "cell_type": "code",
   "execution_count": null,
   "metadata": {},
   "outputs": [],
   "source": [
    "text = data.abstract.iloc[-1]\n",
    "print(text)"
   ]
  },
  {
   "cell_type": "code",
   "execution_count": null,
   "metadata": {},
   "outputs": [],
   "source": [
    "print(preprocess_text(text))"
   ]
  },
  {
   "cell_type": "markdown",
   "metadata": {},
   "source": [
    "#### Tagging Parts of Speech [🔗](https://spacy.io/usage/linguistic-features/#pos-tagging)\n",
    "\n",
    "Diving deeper into the intricacies of NLP, we'll explore some advanced functionalities of spaCy and other libraries.\n",
    "\n",
    "To understand the structure and meaning of text, we often need to identify the role of each word in a sentence, or its 'part of speech' (PoS). With spaCy, you can tag PoS quickly and easily using the pos_ attribute. Here, we apply it to a sentence from our dataset, alongside other linguistic features like lemmas, shapes, and whether the token is a stop word."
   ]
  },
  {
   "cell_type": "code",
   "execution_count": null,
   "metadata": {},
   "outputs": [],
   "source": [
    "text = nlp(data.abstract.iloc[-1])\n",
    "sent = next(text.sents)\n",
    "print(sent)"
   ]
  },
  {
   "cell_type": "code",
   "execution_count": null,
   "metadata": {},
   "outputs": [],
   "source": [
    "def show_lemmas(text: str) -> None:\n",
    "    print(f'{\"token\":{20}} {\"lemma\":<{16}} {\"PoS\":{6}} {\"Dep\":{12}} {\"shape\":<{8}} {\"stop\":<{4}}')\n",
    "    for token in text:\n",
    "        print(f'{token.text:{20}} {token.lemma_:<{16}} {token.pos_:{6}} {token.dep_:{12}} {token.shape_:<{8}} {token.is_stop:<{4}} ')"
   ]
  },
  {
   "cell_type": "code",
   "execution_count": null,
   "metadata": {},
   "outputs": [],
   "source": [
    "show_lemmas(sent)"
   ]
  },
  {
   "cell_type": "markdown",
   "metadata": {},
   "source": [
    "🛸 **TASK**: How can POS tagging be leveraged in text analysis, and what are some alternative libraries or tools that provide this functionality?"
   ]
  },
  {
   "cell_type": "code",
   "execution_count": null,
   "metadata": {},
   "outputs": [],
   "source": [
    "# Prompt: Explore the SpaCy documentation on POS tagging and try to implement it on a sample text. \n",
    "# Compare it with another library, like NLTK, and discuss the differences in their approach and results."
   ]
  },
  {
   "cell_type": "markdown",
   "metadata": {},
   "source": [
    "#### Parsing\n",
    "\n",
    "After understanding individual words, we can analyze how words relate to each other in a sentence - their syntactic dependencies. \n",
    "##### Syntactic dependencies [🔗](https://spacy.io/usage/linguistic-features/#dependency-parse)\n",
    "\n",
    "We can examine this using spaCy's built-in visualizer, displaCy.\n"
   ]
  },
  {
   "cell_type": "code",
   "execution_count": null,
   "metadata": {},
   "outputs": [],
   "source": [
    "text = nlp(data.abstract.iloc[-1])\n",
    "sent = next(text.sents)\n",
    "print(sent)"
   ]
  },
  {
   "cell_type": "code",
   "execution_count": null,
   "metadata": {},
   "outputs": [],
   "source": [
    "print(f'{\"token\":{12}} {\"detailed PoS\":<{8}} {\"Dependency\":{12}}{\"childrena\":<{4}}')\n",
    "for token in sent:\n",
    "     print(f\"{token.text:{12}} {token.tag_:{8}} {token.dep_:{12}} {[child for child in token.children]}\")"
   ]
  },
  {
   "cell_type": "code",
   "execution_count": null,
   "metadata": {},
   "outputs": [],
   "source": [
    "from spacy import displacy\n",
    "displacy.render(sent, style='dep')"
   ]
  },
  {
   "cell_type": "markdown",
   "metadata": {},
   "source": [
    "##### Constituencies\n",
    "\n",
    "But to capture more complex linguistic structures, we might want to consider 'constituencies' or 'phrases'. For this, we add a new parsing model to our spaCy pipeline using the Benepar library."
   ]
  },
  {
   "cell_type": "code",
   "execution_count": null,
   "metadata": {},
   "outputs": [],
   "source": [
    "import benepar # TODO: add benepar and svgling as packages in requirements\n",
    "benepar.download('benepar_en3')\n",
    "\n",
    "nlp = spacy.load(\"en_core_web_sm\")\n",
    "nlp.add_pipe('benepar', config={'model': 'benepar_en3'})\n",
    "\n",
    "text = nlp(data.abstract.iloc[-1])\n",
    "sent = next(text.sents)"
   ]
  },
  {
   "cell_type": "code",
   "execution_count": null,
   "metadata": {},
   "outputs": [],
   "source": [
    "print(sent)"
   ]
  },
  {
   "cell_type": "code",
   "execution_count": null,
   "metadata": {},
   "outputs": [],
   "source": [
    "# Print the parse tree\n",
    "print(sent._.parse_string)"
   ]
  },
  {
   "cell_type": "code",
   "execution_count": null,
   "metadata": {},
   "outputs": [],
   "source": [
    "# Print the labels of each constituent in the parse tree\n",
    "print(sent._.labels)"
   ]
  },
  {
   "cell_type": "code",
   "execution_count": null,
   "metadata": {},
   "outputs": [],
   "source": [
    "# Convert the parse tree to an nltk.Tree object\n",
    "nltk.Tree.fromstring(sent._.parse_string)"
   ]
  },
  {
   "cell_type": "markdown",
   "metadata": {},
   "source": [
    "#### Name Entity Recognition\n",
    "\n",
    "The next step in our text analysis journey is 'Named Entity Recognition' (NER). It identifies and categorizes words in a text that represent proper nouns; names of people, organizations, locations, expressions of times, quantities, and more. Using spaCy, we can extract these named entities and classify them according to their type."
   ]
  },
  {
   "cell_type": "code",
   "execution_count": null,
   "metadata": {},
   "outputs": [],
   "source": [
    "nlp = spacy.load(\"en_core_web_sm\")\n",
    "\n",
    "text = nlp(data.abstract.iloc[0])\n",
    "print(text)"
   ]
  },
  {
   "cell_type": "code",
   "execution_count": null,
   "metadata": {},
   "outputs": [],
   "source": [
    "print(f'{\"token\":{16}} {\"Label\":<{8}}')\n",
    "for ent in text.ents:\n",
    "     print(f\"{ent.text:{16}} {ent.label_:<{8}}\")"
   ]
  },
  {
   "cell_type": "code",
   "execution_count": null,
   "metadata": {},
   "outputs": [],
   "source": [
    "displacy.render(text, style=\"ent\", jupyter=True)"
   ]
  },
  {
   "cell_type": "markdown",
   "metadata": {},
   "source": [
    "🛸 **TASK**: How does SpaCy's default NER model perform on domain-specific texts (e.g., scientific articles)? What strategies could improve its performance?"
   ]
  },
  {
   "cell_type": "code",
   "execution_count": null,
   "metadata": {},
   "outputs": [],
   "source": [
    "# Prompt: Experiment with SpaCy's NER on a domain-specific corpus and observe its performance. \n",
    "# Investigate the documentation to find ways to train or fine-tune the model for better accuracy in your chosen domain."
   ]
  },
  {
   "cell_type": "markdown",
   "metadata": {},
   "source": [
    "#### n-grams\n",
    "\n",
    "One technique useful in understanding context or generating features for machine learning models is the concept of 'n-grams' – sequences of n consecutive words. Here, we use spaCy to generate bigrams, or pairs of consecutive words, for our dataset."
   ]
  },
  {
   "cell_type": "code",
   "execution_count": null,
   "metadata": {},
   "outputs": [],
   "source": [
    "nlp = spacy.load('en_core_web_sm')\n",
    "text = nlp(data.abstract.iloc[-1])\n",
    "print(text)"
   ]
  },
  {
   "cell_type": "code",
   "execution_count": null,
   "metadata": {},
   "outputs": [],
   "source": [
    "print([tuple(text[i:i+2]) for i in range(len(text)-1)])"
   ]
  },
  {
   "cell_type": "code",
   "execution_count": null,
   "metadata": {},
   "outputs": [],
   "source": [
    "# lets do the same for 100 articles\n",
    "data_200 = data.copy()[:200]\n",
    "data_200['bigrams'] = (\n",
    "    data_200['abstract']\n",
    "    .progress_apply(\n",
    "        lambda x: pipe(\n",
    "            nlp(x),\n",
    "            lambda nlpx: [token.lemma_ for token in nlpx if not token.is_stop and not token.is_punct],\n",
    "            lambda nlpx: [tuple(nlpx[i:i+2]) for i in range(len(nlpx)-1)]\n",
    "        )\n",
    "    )\n",
    ")"
   ]
  },
  {
   "cell_type": "markdown",
   "metadata": {},
   "source": [
    "To extend this analysis, we also calculate the frequency of individual words ('unigrams') and bigrams for a subset of our dataset. This allows us to understand the most common words and pairs of words in our text data, and also serves to possibly select bigrams over its unigram constituents if the frequency of the former is higher than those of the latter."
   ]
  },
  {
   "cell_type": "code",
   "execution_count": null,
   "metadata": {},
   "outputs": [],
   "source": [
    "from collections import Counter\n",
    "\n",
    "word_frequency = Counter()\n",
    "\n",
    "# Compute word frequency\n",
    "for text in tqdm(data_200['abstract']):\n",
    "    word_frequency.update(\n",
    "        pipe(\n",
    "            nlp(text), \n",
    "            lambda nlpx: [token.lemma_ for token in nlpx if not token.is_stop and not token.is_punct]\n",
    "        )\n",
    "    )\n",
    "\n",
    "# Compute total number of words\n",
    "total_words = sum(word_frequency.values())\n",
    "\n",
    "word_frequency.most_common(10)"
   ]
  },
  {
   "cell_type": "code",
   "execution_count": null,
   "metadata": {},
   "outputs": [],
   "source": [
    "bigram_frequency = Counter()\n",
    "\n",
    "# Compute bigram frequency\n",
    "for bigrams in tqdm(data_200['bigrams']):\n",
    "    bigram_frequency.update(bigrams)\n",
    "\n",
    "# Compute total number of bigrams\n",
    "total_bigrams = sum(bigram_frequency.values())\n",
    "\n",
    "bigram_frequency.most_common(10)"
   ]
  },
  {
   "cell_type": "markdown",
   "metadata": {},
   "source": [
    "Let's try to understand which n-grams are most informative. An important measure in NLP is the 'Pointwise Mutual Information' (PMI), which quantifies the association between two words. The higher the PMI, the more likely the words appear together. Here, we calculate the PMI for each bigram in our data, considering only those words that occur at least ten times."
   ]
  },
  {
   "cell_type": "markdown",
   "metadata": {},
   "source": [
    "We calculate the $\\mathrm{PMI}$ as follows:\n",
    "$$\n",
    "\\operatorname{PMI}(x, y)=\\log \\left(\\frac{p(x, y)}{p(x) p(y)}\\right)\n",
    "$$\n",
    "where:\n",
    "- $p(x, y)$ is the probability of co-occurrence of $x$ and $y$\n",
    "- $p(x)$ and $p(y)$ are the probabilities of occurrence of $x$ and $y$ respectively"
   ]
  },
  {
   "cell_type": "code",
   "execution_count": null,
   "metadata": {},
   "outputs": [],
   "source": [
    "# Compute unigram probabilities\n",
    "unigram_probabilities = {word: freq / total_words for word, freq in word_frequency.items()}\n",
    "\n",
    "# Compute bigram probabilities\n",
    "bigram_probabilities = {bigram: freq / total_bigrams for bigram, freq in bigram_frequency.items()}\n",
    "\n",
    "# Compute PMI for each bigram\n",
    "pmi = {bigram: np.log(bigram_prob / (unigram_probabilities[bigram[0]] * unigram_probabilities[bigram[1]])) \n",
    "       for bigram, bigram_prob in bigram_probabilities.items()}\n",
    "\n",
    "# Order by PMI value\n",
    "pmi = pipe(\n",
    "    {bigram: pmi for bigram, pmi in pmi.items() if word_frequency[bigram[0]] >= 10 and word_frequency[bigram[1]] >= 10},\n",
    "    lambda pmi: dict(sorted(pmi.items(), key=lambda item: item[1], reverse=True))\n",
    ")\n",
    "\n",
    "# Print PMI for each bigram\n",
    "for i, (bigram, pmi_value) in enumerate(pmi.items()):\n",
    "    print(f\"{bigram}: {pmi_value}\")\n",
    "    if i >= 30:\n",
    "       break"
   ]
  },
  {
   "cell_type": "markdown",
   "metadata": {},
   "source": [
    "#### Tokenisers and vectorisation\n",
    "\n",
    "There are several ways to vectorise text, and the choice of method depends on the specific task. In this section, we'll cover three common methods: CountVectorizer, TfidfVectorizer, and HashingVectorizer.\n",
    "\n",
    "To prepare the text data for vectorization, we first perform tokenization and lemmatization using the spaCy library. This helps in reducing inflected words to their base or dictionary form, which is known as a Lemma. In this step, stop words and punctuation are also removed from the sentences in the text."
   ]
  },
  {
   "cell_type": "code",
   "execution_count": null,
   "metadata": {},
   "outputs": [],
   "source": [
    "text = nlp(data.abstract.iloc[-1])\n",
    "sents = [\" \".join([token.lemma_ for token in sent if not token.is_stop and not token.is_punct]) for sent in text.sents]\n",
    "for sent in sents:\n",
    "    print(sent)"
   ]
  },
  {
   "cell_type": "markdown",
   "metadata": {},
   "source": [
    "After pre-processing the text, we use the CountVectorizer from the sklearn library to convert the collection of text documents into a matrix of token counts."
   ]
  },
  {
   "cell_type": "code",
   "execution_count": null,
   "metadata": {},
   "outputs": [],
   "source": [
    "from sklearn.feature_extraction.text import CountVectorizer\n",
    "\n",
    "vectorizer = CountVectorizer()\n",
    "\n",
    "# Fit the vectorizer to the text\n",
    "X = vectorizer.fit_transform(sents).todense()\n",
    "words = vectorizer.get_feature_names_out()\n",
    "\n",
    "# Create a DataFrame with the word counts\n",
    "x_df = pd.DataFrame(X)\n",
    "x_df.columns = words\n",
    "\n",
    "x_df"
   ]
  },
  {
   "cell_type": "markdown",
   "metadata": {},
   "source": [
    "##### Pre-processing pipeline\n",
    "\n",
    "Let's now do the same at scale. We will use multi-processing with spaCy's [pipelines](https://spacy.io/usage/processing-pipelines) to build a preprocessing pipeline. The preprocessed data will then be used for vectorisation.spaCy's.\n",
    "\n",
    "Note that the code below leverages multi-processing and batching of articles. If you're getting errors here, this may be due to too large a number of processes having been selected, or your CPU not being able to separate this task. You can either reduce the number of processes, or remove the `batch_size` and `n_process` arguments altogether."
   ]
  },
  {
   "cell_type": "code",
   "execution_count": null,
   "metadata": {},
   "outputs": [],
   "source": [
    "nlp = spacy.load(\"en_core_web_sm\")\n",
    "\n",
    "# Build the pipeline for preprocessing\n",
    "batch_generator = nlp.pipe(\n",
    "    data[\"abstract\"].tolist(), \n",
    "    batch_size=1000,\n",
    "    disable=[\"tok2vec\", \"parser\"],\n",
    "    n_process=8\n",
    ")\n",
    "\n",
    "stop_words = [\n",
    "    \"pubmed\", \"scopus\", \"google\", \"scholar\",\n",
    "    \"results\", \"paper\", \"based\", \"study\",\n",
    "]\n",
    "\n",
    "# Preprocess the data\n",
    "docs = []\n",
    "for doc in batch_generator:\n",
    "    # Remove stop words and punctuation\n",
    "    out = \" \".join([\n",
    "        token.lemma_ for token in doc \n",
    "        if not token.is_stop \n",
    "        and not token.is_punct \n",
    "        and token.is_alpha\n",
    "        and token.lower_ not in stop_words])\n",
    "    docs.append(out)\n",
    "\n",
    "data[\"preprocessed_abstract\"] = docs"
   ]
  },
  {
   "cell_type": "markdown",
   "metadata": {},
   "source": [
    "If the code above does not complete, this is likely because of memory issues. Feel free to reduce the number of articles to parse, or load the preprocessed data by converting the code cell below to Python."
   ]
  },
  {
   "cell_type": "raw",
   "metadata": {},
   "source": [
    "data = getter.get_oa_articles(institution=\"TT_p\")"
   ]
  },
  {
   "cell_type": "markdown",
   "metadata": {},
   "source": [
    "##### Count-based vectorisation\n",
    "\n",
    "Let's apply count-based vectorisation to our preprocessed data. We'll define a [CountVectorizer](https://scikit-learn.org/stable/modules/generated/sklearn.feature_extraction.text.CountVectorizer.html) object, and fit this vectorizer to the data. You can refer to the documentation to understand what the parameters mean."
   ]
  },
  {
   "cell_type": "code",
   "execution_count": null,
   "metadata": {},
   "outputs": [],
   "source": [
    "from sklearn.feature_extraction.text import CountVectorizer\n",
    "\n",
    "# Define the vectorizer object\n",
    "vectorizer = CountVectorizer(\n",
    "    min_df=0.01,\n",
    "    max_df=.9,  \n",
    "    max_features=1000,\n",
    "    lowercase=True,\n",
    "    stop_words=[\"paper\", \"based\", \"results\"],\n",
    "    ngram_range=(1,3)\n",
    ")\n",
    "\n",
    "# fit the vectorizer and transform the data\n",
    "X = vectorizer.fit_transform(data['preprocessed_abstract'])\n",
    "words = vectorizer.get_feature_names_out()\n",
    "x_df = pd.DataFrame(X.toarray(), columns=words)\n",
    "x_df.head(10)"
   ]
  },
  {
   "cell_type": "markdown",
   "metadata": {},
   "source": [
    "Let's visualise our tokenised and vectorised data by creating a WordCloud for each range of citation counts."
   ]
  },
  {
   "cell_type": "code",
   "execution_count": null,
   "metadata": {},
   "outputs": [],
   "source": [
    "from wordcloud import WordCloud\n",
    "\n",
    "# join citations and tokens\n",
    "x_wc = pd.merge(x_df, data[\"cited_by_count\"], left_index=True, right_index=True)\n",
    "\n",
    "# create wordcloud\n",
    "wordclouds = []\n",
    "\n",
    "for citation_lb, citation_ub in [(0, 10), (10, 50), (50, 100), (100, 1000), (1000, 30000)]:\n",
    "\n",
    "    # select rows with citation count in range\n",
    "    x_df_subset = x_wc[(x_wc[\"cited_by_count\"] >= citation_lb) & (x_wc[\"cited_by_count\"] < citation_ub)]\n",
    "    del x_df_subset[\"cited_by_count\"]\n",
    "\n",
    "    # create word frequencies (columns are words, rows are documents)\n",
    "    freqs = list(np.array(x_df_subset.sum(axis=0)).reshape(-1,))\n",
    "\n",
    "    # create dictionary of word frequencies\n",
    "    word_freqs = dict(zip(x_df_subset.columns, freqs))\n",
    "\n",
    "    # create wordcloud\n",
    "    wordclouds.append(WordCloud(background_color=\"white\", max_words=100, width=800, height=400).generate_from_frequencies(word_freqs))\n",
    "\n",
    "# plot wordclouds as single row subplots\n",
    "fig, axs = plt.subplots(1, 5, figsize=(20, 5))\n",
    "for i, ax in enumerate(axs):\n",
    "    ax.imshow(wordclouds[i], interpolation=\"bilinear\")\n",
    "    ax.axis(\"off\")\n",
    "    ax.set_title(\"Citation count: {}-{}\".format(*[(0, 10), (10, 50), (50, 100), (100, 1000), (1000, 30000)][i]))"
   ]
  },
  {
   "cell_type": "markdown",
   "metadata": {},
   "source": [
    "##### TF-IDF vectorisation\n",
    "\n",
    "We'll now use TF-IDF (Term Frequency - Inverse Document Frequency) vectorisation. This will help us to understand the importance of a word in a document in comparison to the entire corpus.\n"
   ]
  },
  {
   "cell_type": "code",
   "execution_count": null,
   "metadata": {},
   "outputs": [],
   "source": [
    "from sklearn.feature_extraction.text import TfidfVectorizer\n",
    "\n",
    "# Define the vectorizer object\n",
    "vectorizer = TfidfVectorizer(\n",
    "    min_df=0.01,\n",
    "    max_df=.9,  \n",
    "    max_features=1000,\n",
    "    lowercase=True,\n",
    "    stop_words=[\"paper\", \"based\", \"results\"],\n",
    "    ngram_range=(1,3)\n",
    ")\n",
    "\n",
    "# fit the vectorizer and transform the data\n",
    "X = vectorizer.fit_transform(data['preprocessed_abstract'])\n",
    "words = vectorizer.get_feature_names_out()\n",
    "x_df = pd.DataFrame(X.toarray(), columns=words)\n",
    "x_df.head(10)"
   ]
  },
  {
   "cell_type": "markdown",
   "metadata": {},
   "source": [
    "We repeat the WordCloud visualization for the TF-IDF vectorised data."
   ]
  },
  {
   "cell_type": "code",
   "execution_count": null,
   "metadata": {},
   "outputs": [],
   "source": [
    "# join citations and tokens\n",
    "x_wc = pd.merge(x_df, data[\"cited_by_count\"], left_index=True, right_index=True)\n",
    "\n",
    "# create wordcloud\n",
    "wordclouds = []\n",
    "\n",
    "for citation_lb, citation_ub in [(0, 10), (10, 50), (50, 100), (100, 1000), (1000, 30000)]:\n",
    "\n",
    "    # select rows with citation count in range\n",
    "    x_df_subset = x_wc[(x_wc[\"cited_by_count\"] >= citation_lb) & (x_wc[\"cited_by_count\"] < citation_ub)]\n",
    "    del x_df_subset[\"cited_by_count\"]\n",
    "\n",
    "    # create word frequencies (columns are words, rows are documents)\n",
    "    freqs = list(np.array(x_df_subset.sum(axis=0)).reshape(-1,))\n",
    "\n",
    "    # create dictionary of word frequencies\n",
    "    word_freqs = dict(zip(x_df_subset.columns, freqs))\n",
    "\n",
    "    # create wordcloud\n",
    "    wordclouds.append(WordCloud(background_color=\"white\", max_words=100, width=800, height=400).generate_from_frequencies(word_freqs))\n",
    "\n",
    "# plot wordclouds as single row subplots\n",
    "fig, axs = plt.subplots(1, 5, figsize=(20, 5))\n",
    "for i, ax in enumerate(axs):\n",
    "    ax.imshow(wordclouds[i], interpolation=\"bilinear\")\n",
    "    ax.axis(\"off\")\n",
    "    ax.set_title(\"Citation count: {}-{}\".format(*[(0, 10), (10, 50), (50, 100), (100, 1000), (1000, 30000)][i]))"
   ]
  },
  {
   "cell_type": "markdown",
   "metadata": {},
   "source": [
    "##### Hashing vectorisation\n",
    "\n",
    "Next, we'll use the HashingVectorizer. The advantage of using this vectorizer is its memory efficiency. \n"
   ]
  },
  {
   "cell_type": "code",
   "execution_count": null,
   "metadata": {},
   "outputs": [],
   "source": [
    "from sklearn.feature_extraction.text import HashingVectorizer\n",
    "\n",
    "# Define the vectorizer object\n",
    "vectorizerhv = HashingVectorizer(\n",
    "    n_features=1000,\n",
    "    lowercase=True,\n",
    "    stop_words=[\"paper\", \"based\", \"results\"],\n",
    "    ngram_range=(1,3),\n",
    "    norm=None,\n",
    "    alternate_sign=False\n",
    ")\n",
    "\n",
    "# fit the vectorizer and transform the data\n",
    "Xhv = vectorizerhv.fit_transform(data['preprocessed_abstract'])\n",
    "\n",
    "Xhv.todense()"
   ]
  },
  {
   "cell_type": "markdown",
   "metadata": {},
   "source": [
    "### Cosine Similarity Analysis\n",
    "\n",
    "Having defined the document-term vector representation, let's practice some analysis.\n",
    "\n",
    "Cosine similarity is a measure of similarity between two non-zero vectors of an inner product space. It is defined as the cosine of the angle between the two vectors, which is calculated as the dot product of the vectors divided by the product of their magnitudes.\n",
    "\n",
    "In the context of text analysis, cosine similarity is often used to measure the similarity between two documents.\n",
    "\n",
    "$$\n",
    "\\text { cosine similarity }=\\frac{A \\cdot B}{\\|A\\|\\|B\\|}=\\frac{\\sum_{i=1}^n A_i B_i}{\\sqrt{\\sum_{i=1}^n A_i^2} \\sqrt{\\sum_{i=1}^n B_i^2}}\n",
    "$$"
   ]
  },
  {
   "cell_type": "code",
   "execution_count": null,
   "metadata": {},
   "outputs": [],
   "source": [
    "from sklearn.metrics.pairwise import cosine_similarity"
   ]
  },
  {
   "cell_type": "markdown",
   "metadata": {},
   "source": [
    "##### Search engine\n",
    "\n",
    "We will now create a search engine that will return the top similar results for a given query using cosine similarity. \n"
   ]
  },
  {
   "cell_type": "code",
   "execution_count": null,
   "metadata": {},
   "outputs": [],
   "source": [
    "def search_engine(tfidfvectorizer, vectX, query: str, top_return: int = 1) -> pd.DataFrame:\n",
    "    \"\"\"Search engine for text data\n",
    "\n",
    "    Args:\n",
    "        tfidfvectorizer: Vectorizer object\n",
    "        vectX: Vectorized data\n",
    "        query (str): Text to search\n",
    "        top_return (int, optional): Number of top results to return. Defaults to 1.\n",
    "\n",
    "    Returns:\n",
    "        pd.DataFrame: Top results\n",
    "    \"\"\"    \n",
    "    text = nlp(query)\n",
    "    text = \" \".join([token.text for token in text if not token.is_stop])\n",
    "    text = tfidfvectorizer.transform([text])\n",
    "\n",
    "    cos_sim = cosine_similarity(text, vectX).flatten()\n",
    "    top_ = np.argsort(cos_sim)[::-1][:top_return]\n",
    "\n",
    "    return data.iloc[top_]"
   ]
  },
  {
   "cell_type": "code",
   "execution_count": null,
   "metadata": {},
   "outputs": [],
   "source": [
    "search_engine(\n",
    "    query=\"Machine Learning\",\n",
    "    tfidfvectorizer=vectorizer,\n",
    "    vectX=X,\n",
    "    top_return=3\n",
    ")"
   ]
  },
  {
   "cell_type": "markdown",
   "metadata": {},
   "source": [
    "🛸 **TASK**: Adjust parameters like sublinear_tf, min_df, and max_df in the search_engine function. Experiment with different queries and observe how these adjustments impact the results. Which settings enhance the search engine's performance for specific types of queries?"
   ]
  },
  {
   "cell_type": "markdown",
   "metadata": {},
   "source": [
    "##### Similarity retrieval\n",
    "\n",
    "Now we will create a function that will retrieve similar abstracts to a given one based on cosine similarity. \n"
   ]
  },
  {
   "cell_type": "code",
   "execution_count": null,
   "metadata": {},
   "outputs": [],
   "source": [
    "def retrieve_similar(vectX, abstract_idx: int, top_return: int = 1) -> pd.DataFrame:\n",
    "    \"\"\"Retrieve similar abstracts based on cosine similarity\n",
    "\n",
    "    Args:\n",
    "        vectX: Vectorized data\n",
    "        abstract_dx (int): Abstract index to compare\n",
    "        top_return (int, optional): Number of top results to return. Defaults to 1.\n",
    "\n",
    "    Returns:\n",
    "        pd.DataFrame: Top results\n",
    "    \"\"\"    \n",
    "    cos_sim = cosine_similarity(vectX[abstract_idx], vectX).flatten()\n",
    "    top_ = np.argsort(cos_sim)[::-1][1:top_return]\n",
    "\n",
    "    return data.iloc[top_]"
   ]
  },
  {
   "cell_type": "code",
   "execution_count": null,
   "metadata": {},
   "outputs": [],
   "source": [
    "data.abstract.iloc[-1]"
   ]
  },
  {
   "cell_type": "code",
   "execution_count": null,
   "metadata": {},
   "outputs": [],
   "source": [
    "retrieve_similar(\n",
    "    vectX=X,\n",
    "    abstract_idx=-1,\n",
    "    top_return=10\n",
    ")"
   ]
  },
  {
   "cell_type": "markdown",
   "metadata": {},
   "source": [
    "🛸 **TASK**: Enhance the retrieve_similar function by adding a category or topic filter. How does narrowing down the scope to specific categories alter the similarity results? Can you identify any patterns or unique relationships between documents in the same category?"
   ]
  },
  {
   "cell_type": "markdown",
   "metadata": {},
   "source": [
    "##### Paper application - [Kelly et al (2021)](https://www.aeaweb.org/articles?id=10.1257/aeri.20190499) - Measuring Technological Innovation over the Long Run \n",
    "\n",
    "- **Goal**: Construct a measure of novelty and impact of innovations based on similarity and distance between documents.\n",
    "\n",
    "- **Methodology**:\n",
    "\n",
    "    - Collect 9 million patents published since 1840, from USPTO and Google Patents\n",
    "    - Information in a patent contains date, inventor, backward citations, and text (abstract, claims, description)\n",
    "    - Pre-process by removing HTML markup, punctuations, stopwords, and terms that appear in <20 patents\n",
    "    - Using the resulting 1.6M wide and 9M long TF matrix, compute the Backward IDF weighting of each term\n",
    "    - Using time-dependent similarities, identify novel and impactful technological breakthroughs\n",
    "<br></br>\n",
    "- **Findings**\n",
    "\n",
    "    - Robust technology breakthrough metrics spanning two centuries over private and public firm activities\n",
    "    - Breakthrough innovations strongly correlate with long term firm profitability\n",
    "\n",
    "We start by collecting the Estonian patents data using a predefined function and sort them by publication date. Let's quickly check the information about our collected data.\n"
   ]
  },
  {
   "cell_type": "code",
   "execution_count": null,
   "metadata": {},
   "outputs": [],
   "source": [
    "estonian_patents = pipe(\n",
    "    getter.get_estonian_patents(),\n",
    "    lambda df: df.sort_values(by='publication_date', ascending=False)\n",
    ")\n",
    "\n",
    "estonian_patents.info()"
   ]
  },
  {
   "cell_type": "markdown",
   "metadata": {},
   "source": [
    "Next, we load the spaCy model for English language, and build a pipeline for preprocessing the data. This pipeline is designed to remove stop words, punctuations, and non-alphabetic characters from the patents' abstract."
   ]
  },
  {
   "cell_type": "code",
   "execution_count": null,
   "metadata": {},
   "outputs": [],
   "source": [
    "nlp = spacy.load(\"en_core_web_sm\")\n",
    "\n",
    "# Build the pipeline for preprocessing\n",
    "text_generator = nlp.pipe(\n",
    "    estonian_patents[\"abstract_localized\"].tolist(),\n",
    "    disable=[\"tok2vec\", \"parser\", \"lemmatizer\"]\n",
    ")\n",
    "\n",
    "# Preprocess the data\n",
    "docs = []\n",
    "for doc in text_generator:\n",
    "    # Remove stop words and punctuation\n",
    "    out = \" \".join([token.text for token in doc if not token.is_stop and not token.is_punct and token.is_alpha])\n",
    "    docs.append(out)\n",
    "\n",
    "# Add the preprocessed data to the dataframe\n",
    "estonian_patents[\"preprocessed_abstract\"] = docs"
   ]
  },
  {
   "cell_type": "markdown",
   "metadata": {},
   "source": [
    "In this step, we implement the TF-IDF calculation. TF-IDF (Term Frequency - Inverse Document Frequency) is a numerical statistic used to reflect how important a word is to a document in a collection or corpus.\n",
    "\n",
    "$$\n",
    "T F I D F_{p w} \\equiv T F_{p w} \\times I D F_w .\n",
    "$$\n",
    "\n",
    "We start with term frequency (TF) which is simply the frequency of a word in a document.\n",
    "$$\n",
    "T F_{p w} \\equiv \\frac{c_{p w}}{\\sum_k c_{p k}}\n",
    "$$"
   ]
  },
  {
   "cell_type": "code",
   "execution_count": null,
   "metadata": {},
   "outputs": [],
   "source": [
    "# Compute the term frequency of all articles\n",
    "vectorizer = CountVectorizer(\n",
    "    min_df=0.01,\n",
    "    max_df=.9,  \n",
    "    max_features=100,\n",
    "    lowercase=True,\n",
    "    stop_words=[\"paper\", \"based\", \"results\"],\n",
    "    ngram_range=(1,3)\n",
    ")\n",
    "\n",
    "# fit the vectorizer and transform the data\n",
    "patents_tf = vectorizer.fit_transform(estonian_patents['preprocessed_abstract']).toarray()\n",
    "\n",
    "# include mock example for didactic purposes\n",
    "patents_tf_mock = np.array([[0,3,0,4], [1,2,0,3], [1,1,3,0], [1,1,3,0]])"
   ]
  },
  {
   "cell_type": "markdown",
   "metadata": {},
   "source": [
    "Typically, we would compute the inverse document frequency (IDF). IDF is a measure of how much information the word provides, i.e., if it's common or rare across all documents.\n",
    "$$\n",
    "I D F_w \\equiv \\log \\left(\\frac{\\# \\text { documents in sample }}{\\# \\text { documents that include term } w}\\right) .\n",
    "$$"
   ]
  },
  {
   "cell_type": "code",
   "execution_count": null,
   "metadata": {},
   "outputs": [],
   "source": [
    "def inverse_document_frequency(X: np.ndarray) -> np.ndarray:\n",
    "    \"\"\"Computes the inverse document frequency of the given matrix.\n",
    "\n",
    "    Args:\n",
    "        X (np.ndarray): The input matrix.\n",
    "\n",
    "    Returns:\n",
    "        np.ndarray: The inverse document frequency of the given matrix.\n",
    "    \"\"\"    \n",
    "    n_samples, n_features = X.shape\n",
    "    df = np.count_nonzero(X, axis=0)\n",
    "    return np.log(n_samples / df)"
   ]
  },
  {
   "cell_type": "markdown",
   "metadata": {},
   "source": [
    "Note that the paper uses a modified version of the code above, defining IDF relative to a patent's publication date.\n",
    "$$\n",
    "B I D F_{w p}=\\log \\left(\\frac{\\# \\text { patents prior to } p}{1+\\# \\text { documents prior to } p \\text { that include term } w}\\right) \\text {. }\n",
    "$$"
   ]
  },
  {
   "cell_type": "code",
   "execution_count": null,
   "metadata": {},
   "outputs": [],
   "source": [
    "def backward_idf(X: np.ndarray) -> np.ndarray:\n",
    "    \"\"\"Compute the backward inverse document frequency.\n",
    "\n",
    "    Args:\n",
    "        X (np.ndarray): The input matrix of shape (n_samples, n_features).\n",
    "\n",
    "    Returns:\n",
    "        np.ndarray: The backward inverse document frequency matrix of shape (n_samples, n_features).\n",
    "    \"\"\"    \n",
    "    n_samples, n_features = X.shape\n",
    "\n",
    "    # Initialize the backward document frequency matrix\n",
    "    backward_df = np.empty((n_samples, n_features))\n",
    "\n",
    "    # Compute the backward document frequency\n",
    "    for i in tqdm(range(n_samples)):\n",
    "        backward_df[i, :] = np.count_nonzero(X[:i, :], axis=0)\n",
    "\n",
    "    # Compute the backward inverse document frequency\n",
    "    backward_idf = np.log((np.arange(1, n_samples + 1)[:, None]) / (1 + backward_df))\n",
    "    return backward_idf"
   ]
  },
  {
   "cell_type": "code",
   "execution_count": null,
   "metadata": {},
   "outputs": [],
   "source": [
    "bidf = backward_idf(patents_tf)"
   ]
  },
  {
   "cell_type": "markdown",
   "metadata": {},
   "source": [
    "The next step is to build the Pairwise BIDF matrix. The Pairwise BIDF matrix is built from the BIDF matrix by taking into account the publication date of each document. \n",
    "$$\n",
    "T F B I D F_{w, i, t}=T F_{w, i} \\times B I D F_{w, t}, \\quad t \\equiv \\min (i, j)\n",
    "$$\n",
    "Note that the complexity here is that two patents will share the BIDF weights of whichever patent is older, as otherwise the BIDF calculation takes into account future patent activity for one of the two patents."
   ]
  },
  {
   "cell_type": "code",
   "execution_count": null,
   "metadata": {},
   "outputs": [],
   "source": [
    "def build_pairwise_bidfs(X: np.ndarray) -> np.ndarray:\n",
    "    \"\"\"Builds a pairwise BIDF matrix from a BIDF matrix. Documents are sorted by \n",
    "    publication date. The methodology is described in the paper, and suggests\n",
    "    using the older documents as baseline BIDF values for newer documents, when\n",
    "    calculating the pairwise BIDF values between the two.\n",
    "\n",
    "    Args:\n",
    "        X (np.ndarray): BIDF matrix, dimensions (n_samples, n_features)\n",
    "\n",
    "    Returns:\n",
    "        np.ndarray: Pairwise BIDF matrix, dimensions (n_samples, n_samples, n_features)\n",
    "    \"\"\"    \n",
    "    n_samples, n_features = X.shape\n",
    "    pairwise_bidfs = np.zeros((n_samples, n_samples, n_features), dtype=np.float16)\n",
    "\n",
    "    for i in tqdm(range(n_samples)):\n",
    "        # Lower triangular part filled with ith row of z (ie. older documents)\n",
    "        pairwise_bidfs[i, :i, :] = X[:i]\n",
    "        # Diagonal (and technically upper triangular) filled with the diagonal element (newer documents)\n",
    "        pairwise_bidfs[i, i, :] = X[i]\n",
    "\n",
    "    return pairwise_bidfs"
   ]
  },
  {
   "cell_type": "code",
   "execution_count": null,
   "metadata": {},
   "outputs": [],
   "source": [
    "pairwise_bidf = build_pairwise_bidfs(bidf)"
   ]
  },
  {
   "cell_type": "markdown",
   "metadata": {},
   "source": [
    "We use the computed BIDF and TF to compute the pairwise TF-BIDF (Term Frequency - Backward Inverse Document Frequency) values."
   ]
  },
  {
   "cell_type": "code",
   "execution_count": null,
   "metadata": {},
   "outputs": [],
   "source": [
    "def build_pairwise_tfbidfs(patents_tf: np.ndarray, X_bidf: np.ndarray) -> np.ndarray:\n",
    "    \"\"\"Computes the pairwise tf-bidf values for all documents.\n",
    "\n",
    "    Args:\n",
    "        patents_tf (np.ndarray): The term frequency matrix, dimensions: (n_samples, n_features)\n",
    "        X_bidf (np.ndarray): The backward inverse document frequency matrix, \n",
    "            dimensions: (n_samples, n_samples, n_features)\n",
    "\n",
    "    Returns:\n",
    "        np.ndarray: Pairwise tf-bidf values, dimensions: (n_samples, n_samples, n_features)\n",
    "    \"\"\"\n",
    "\n",
    "    n_samples, n_features = patents_tf.shape\n",
    "    pairwise_tfbidfs = np.zeros((n_samples, n_samples, n_features), dtype=np.float16)\n",
    "    \n",
    "    for i in tqdm(range(n_samples)):\n",
    "        pairwise_tfbidfs[i, :] = patents_tf[i] * X_bidf[i, :]\n",
    "        \n",
    "    return pairwise_tfbidfs"
   ]
  },
  {
   "cell_type": "code",
   "execution_count": null,
   "metadata": {},
   "outputs": [],
   "source": [
    "pairwise_tfbidf = build_pairwise_tfbidfs(patents_tf=patents_tf, X_bidf=pairwise_bidf)"
   ]
  },
  {
   "cell_type": "markdown",
   "metadata": {},
   "source": [
    "We will normalize the TF-BIDF values by its L2 norm. \n",
    "$$\n",
    "V_{i, t}=\\frac{T F B I D F_{i, t}}{\\left\\|T F B I D F_{i, t}\\right\\|} .\n",
    "$$"
   ]
  },
  {
   "cell_type": "code",
   "execution_count": null,
   "metadata": {},
   "outputs": [],
   "source": [
    "normalized_tfbidf = np.linalg.norm(pairwise_tfbidf, axis=2, keepdims=True)"
   ]
  },
  {
   "cell_type": "markdown",
   "metadata": {},
   "source": [
    "We compute the cosine similarity between each pair of documents by taking the dot product of their normalized TF-BIDF vectors.\n",
    "$$\n",
    "\\rho_{i, j}=V_{i, t} \\cdot V_{j, t} .\n",
    "$$"
   ]
  },
  {
   "cell_type": "code",
   "execution_count": null,
   "metadata": {},
   "outputs": [],
   "source": [
    "def build_rho_matrix(pairwise_tfbidf: np.ndarray, normalized_tfbidf: np.ndarray) -> np.ndarray:\n",
    "    \"\"\"Computes the cosine similarity between two TF-BIDF normalised vectors.\n",
    "    The operations correspond, for every row i, to the multiplication of element\n",
    "    [i,i] of the matrix with every other element in [i,:]\n",
    "\n",
    "    Args:\n",
    "        normalized_tfbidf (np.ndarray): TF-BIDF normalised matrix, dimensions \n",
    "            (n_samples, n_samples, n_features)\n",
    "        pairwise_tfbidf (np.ndarray): TF-BIDF matrix, dimensions \n",
    "            (n_samples, n_samples, n_features)\n",
    "\n",
    "    Returns:\n",
    "        np.ndarray: Cosine similarity matrix, dimensions (n_samples, n_samples)\n",
    "    \"\"\"\n",
    "    n_samples = normalized_tfbidf.shape[0]\n",
    "    rho_matrix = np.zeros((n_samples, n_samples))\n",
    "\n",
    "    for i in tqdm(range(n_samples)):\n",
    "        # dot product\n",
    "        rho_matrix[i, :] = (\n",
    "            np.dot(pairwise_tfbidf[i, i, :], pairwise_tfbidf[:, i, :].T) /\n",
    "            (np.dot(normalized_tfbidf[i, i, :], normalized_tfbidf[:, i, :].T) + 1e-5)\n",
    "        )\n",
    "        \n",
    "    return rho_matrix.T"
   ]
  },
  {
   "cell_type": "code",
   "execution_count": null,
   "metadata": {},
   "outputs": [],
   "source": [
    "rho_matrix = build_rho_matrix(pairwise_tfbidf=pairwise_tfbidf, normalized_tfbidf=normalized_tfbidf)"
   ]
  },
  {
   "cell_type": "markdown",
   "metadata": {},
   "source": [
    "Let's move to generating outcome variables as done in the paper. We will compute the backward and forward similarity of each document. \n",
    "\n",
    "The backward similarity of a document is the sum of its similarities with all previous documents - **Novelty**$^{-1}$.\n",
    "$$\n",
    "B S_j^\\tau=\\sum_{i \\in \\mathcal{B}_{j, \\tau}} \\rho_{j, i}\n",
    "$$\n",
    "\n",
    "The forward similarity of a document is the sum of its similarities with all future documents - **Impact**.\n",
    "$$\n",
    "F S_j^\\tau=\\sum_{i \\in \\mathcal{F}_{j, \\tau}} \\rho_{j, i},\n",
    "$$"
   ]
  },
  {
   "cell_type": "code",
   "execution_count": null,
   "metadata": {},
   "outputs": [],
   "source": [
    "# let's mirror the rho_matrix matrix along the diagonal for convenience\n",
    "rho_matrix = np.tril(rho_matrix, k=1) + np.transpose(np.tril(rho_matrix, k=1)) - np.diag(rho_matrix.diagonal())"
   ]
  },
  {
   "cell_type": "code",
   "execution_count": null,
   "metadata": {},
   "outputs": [],
   "source": [
    "# Compute backward and forward similarity\n",
    "bsfs = []\n",
    "for i in range(rho_matrix.shape[0]):\n",
    "    bsfs.append(tuple([np.sum(rho_matrix[i, i-100:i]), np.sum(rho_matrix[i, i+1:i+101])]))"
   ]
  },
  {
   "cell_type": "markdown",
   "metadata": {},
   "source": [
    "The quality of each document is defined as the ratio of its forward similarity to its backward similarity, ie. the ratio between impact (higher is better) and inverse novelty (lower is better).\n",
    "$$\n",
    "q_{j}^{\\tau} = \\frac{F S_j^\\tau}{B S_j^\\tau}\n",
    "$$"
   ]
  },
  {
   "cell_type": "code",
   "execution_count": null,
   "metadata": {},
   "outputs": [],
   "source": [
    "quality = [fs/(bs+1e-15) for (bs,fs) in bsfs]"
   ]
  },
  {
   "cell_type": "code",
   "execution_count": null,
   "metadata": {},
   "outputs": [],
   "source": [
    "# let's add the quality column to the data\n",
    "estonian_patents[\"quality\"] = quality\n",
    "\n",
    "# and consider burn-in periods before and after\n",
    "burn_in = 100\n",
    "estonian_patents = estonian_patents[burn_in:-burn_in]"
   ]
  },
  {
   "cell_type": "markdown",
   "metadata": {},
   "source": [
    "Now, we visualize the quality of each patent over time."
   ]
  },
  {
   "cell_type": "code",
   "execution_count": null,
   "metadata": {},
   "outputs": [],
   "source": [
    "plot_data = estonian_patents[[\"publication_date\", \"quality\", \"publication_number\", \"title_localized\"]].copy()\n",
    "\n",
    "# do the same with altair plot\n",
    "alt.Chart(plot_data).mark_circle().encode(\n",
    "    alt.X('publication_date', title='Publication Date'),\n",
    "    alt.Y('quality', title='Quality'),\n",
    "    tooltip=['publication_number', 'title_localized']\n",
    ").properties(\n",
    "    width=800,\n",
    "    height=400\n",
    ")"
   ]
  },
  {
   "cell_type": "markdown",
   "metadata": {},
   "source": [
    "Let's identify the highest quality articles published in recent years by Estonian inventors."
   ]
  },
  {
   "cell_type": "code",
   "execution_count": null,
   "metadata": {},
   "outputs": [],
   "source": [
    "# select top ten articles by quality\n",
    "estonian_patents.sort_values(by='quality', ascending=False).head(10)"
   ]
  },
  {
   "cell_type": "markdown",
   "metadata": {},
   "source": [
    "As a treat, let's admire one of the figures in the original paper, built using our approach above (only difference is they use a time-based sliding window, and not count-based)."
   ]
  },
  {
   "attachments": {
    "image.png": {
     "image/png": "[encoded data removed]"
    }
   },
   "cell_type": "markdown",
   "metadata": {},
   "source": [
    "![image.png](attachment:image.png)"
   ]
  },
  {
   "cell_type": "markdown",
   "metadata": {},
   "source": [
    "### Unsupervised text analysis\n",
    "\n",
    "Unsupervised text analysis is a subset of Natural Language Processing (NLP) that involves the extraction of meaningful patterns or knowledge from a text corpus without the need for labeled data. It's called \"unsupervised\" because the algorithms discover these patterns on their own, without guidance from a 'supervisor', unlike supervised learning where you provide the algorithm with labeled data to learn from.\n",
    "\n",
    "Unsupervised text analysis techniques are often used to discover hidden themes or topics in a corpus, to group or cluster documents, or to reduce the dimensionality of text data for further processing or visualization. Techniques can include clustering (such as K-means, hierarchical, or DBSCAN), dimensionality reduction (like PCA or t-SNE), or topic modeling (such as Latent Dirichlet Allocation or LDA)."
   ]
  },
  {
   "cell_type": "markdown",
   "metadata": {},
   "source": [
    "#### Posterior approaches\n",
    "\n",
    "We define posterior approaches as methods that analyse the document-term matrix after it has been created."
   ]
  },
  {
   "cell_type": "markdown",
   "metadata": {},
   "source": [
    "##### Principal Component Analysis\n",
    "\n",
    "Let's start with PCA, a method that highlights the key variations in a high-dimensional dataset by creating new uncorrelated variables that successively maximize variance. We're using the PCA from sklearn.decomposition to reduce the dimensionality of our data. This is often done to help visualize the data, as visualizing high-dimensional data is a challenge."
   ]
  },
  {
   "cell_type": "code",
   "execution_count": null,
   "metadata": {},
   "outputs": [],
   "source": [
    "from sklearn.decomposition import PCA\n",
    "pca = PCA(n_components=3,svd_solver='randomized')\n",
    "Xpca = pca.fit_transform(X.toarray())\n",
    "pca.explained_variance_ratio_"
   ]
  },
  {
   "cell_type": "code",
   "execution_count": null,
   "metadata": {},
   "outputs": [],
   "source": [
    "# Visualisation\n",
    "plt.scatter(Xpca[:,0],Xpca[:,1], alpha=.1)\n",
    "plt.show()"
   ]
  },
  {
   "cell_type": "markdown",
   "metadata": {},
   "source": [
    "Let's try in three dimensions, taking into account the first three principal components of our data. This allows for a deeper understanding of the spread and clustering in our data."
   ]
  },
  {
   "cell_type": "code",
   "execution_count": null,
   "metadata": {},
   "outputs": [],
   "source": [
    "# 3D Visualisation\n",
    "from mpl_toolkits.mplot3d import Axes3D\n",
    "\n",
    "# create 3D scatter plot from Xpca\n",
    "fig = plt.figure(figsize=(10, 10))\n",
    "ax = fig.add_subplot(111, projection='3d')\n",
    "ax.scatter(Xpca[:, 0], Xpca[:, 1], Xpca[:, 2], alpha=.2)\n",
    "ax.set_xlabel('PC1')\n",
    "ax.set_ylabel('PC2')\n",
    "ax.set_zlabel('PC3')\n",
    "plt.show() "
   ]
  },
  {
   "cell_type": "markdown",
   "metadata": {},
   "source": [
    "t-SNE (t-Distributed Stochastic Neighbor Embedding) is another technique for dimensionality reduction that is particularly well suited for the visualization of high-dimensional datasets. It transforms high-dimensional data into a 2 or 3-dimensional space so that it can be visualized. Here, we're using sklearn.manifold.TSNE to perform t-SNE on our data, and visualizing the results using Altair."
   ]
  },
  {
   "cell_type": "code",
   "execution_count": null,
   "metadata": {},
   "outputs": [],
   "source": [
    "# t-SNE\n",
    "from sklearn.manifold import TSNE\n",
    "\n",
    "tsne = TSNE(n_components=2, n_iter=250)\n",
    "Xtsne = tsne.fit_transform(X.toarray())"
   ]
  },
  {
   "cell_type": "code",
   "execution_count": null,
   "metadata": {},
   "outputs": [],
   "source": [
    "plot_data = pd.merge(\n",
    "    pd.DataFrame({'x': Xtsne[:, 0], 'y': Xtsne[:, 1]}),\n",
    "    data[[\"publication_date\", \"abstract\", \"display_name\"]],\n",
    "    left_index=True,\n",
    "    right_index=True\n",
    ")"
   ]
  },
  {
   "cell_type": "code",
   "execution_count": null,
   "metadata": {},
   "outputs": [],
   "source": [
    "alt.Chart(plot_data).mark_circle(size=60, opacity=0.3).encode(\n",
    "    x=alt.X('x', scale=alt.Scale(domain=[-5, 5])),\n",
    "    y=alt.Y('y', scale=alt.Scale(domain=[-5, 5])),\n",
    "    tooltip=['display_name']\n",
    ").properties(\n",
    "    width=600,\n",
    "    height=600\n",
    ").interactive()"
   ]
  },
  {
   "cell_type": "markdown",
   "metadata": {},
   "source": [
    "Another approach to dimensionality reduction that uses the document-term matrix as input are traditional clustering algorithms. Let's explore some of the popular alternatives."
   ]
  },
  {
   "cell_type": "markdown",
   "metadata": {},
   "source": [
    "##### K-means clustering\n",
    "\n",
    "In this step, we're applying K-means clustering to our data. K-means clustering is an iterative algorithm that divides a group of n datasets into k non-overlapping subsets or clusters, where each dataset belongs to the cluster with the nearest mean."
   ]
  },
  {
   "cell_type": "code",
   "execution_count": null,
   "metadata": {},
   "outputs": [],
   "source": [
    "from sklearn.cluster import KMeans\n",
    "num_clusters = 20\n",
    "km = KMeans(n_clusters=num_clusters, n_init='auto', random_state=42)\n",
    "km.fit(X)\n",
    "plot_data[\"kmeans\"] = km.labels_.tolist()"
   ]
  },
  {
   "cell_type": "code",
   "execution_count": null,
   "metadata": {},
   "outputs": [],
   "source": [
    "def clusters_plot(cluster_column):\n",
    "    return alt.Chart(plot_data).mark_circle(size=60, opacity=0.3).encode(\n",
    "        x=alt.X('x', scale=alt.Scale(domain=[-5, 5])),\n",
    "        y=alt.Y('y', scale=alt.Scale(domain=[-5, 5])),\n",
    "        color=f'{cluster_column}:N',\n",
    "        tooltip=['display_name']\n",
    "    ).properties(\n",
    "        width=600,\n",
    "        height=600\n",
    "    ).interactive()"
   ]
  },
  {
   "cell_type": "code",
   "execution_count": null,
   "metadata": {},
   "outputs": [],
   "source": [
    "clusters_plot(\"kmeans\")"
   ]
  },
  {
   "cell_type": "markdown",
   "metadata": {},
   "source": [
    "In order to define the number of clusters, a popular approach is to estimate the silhouette score for each option, and select the one with the highest value. Popular alternatives include the Elbow method (plot the distance to centroids at each choice of n_clusters and select the one whose subsequent improvement is smallest), or the Gap Statistic (a more nuanced approach to the Elbow method).\n",
    "\n",
    "Note this can be somewhat slow for a granular search over the optimal number of clusters. If you want to run it, convert the cell to Python before. "
   ]
  },
  {
   "cell_type": "raw",
   "metadata": {},
   "source": [
    "# figuring out the optimal number of clusters\n",
    "from sklearn.metrics import silhouette_score\n",
    "\n",
    "sil_scores = []\n",
    "for n in range(5, num_clusters):\n",
    "    km = KMeans(n_clusters=n, n_init='auto')\n",
    "    km.fit(X.toarray())\n",
    "    sil_scores.append(silhouette_score(X, km.labels_))"
   ]
  },
  {
   "cell_type": "markdown",
   "metadata": {},
   "source": [
    "##### Agglomerative Clustering\n",
    "\n",
    "This is another method of hierarchical clustering that builds a hierarchy of clusters by merging together small clusters. It starts by treating each object as a singleton cluster, then pairs up clusters with the smallest distance between them, and continues until only a single cluster remains."
   ]
  },
  {
   "cell_type": "code",
   "execution_count": null,
   "metadata": {},
   "outputs": [],
   "source": [
    "from sklearn.cluster import AgglomerativeClustering\n",
    "\n",
    "cluster = AgglomerativeClustering(n_clusters=20, metric='euclidean', linkage='ward')\n",
    "cluster.fit_predict(X.toarray())\n",
    "\n",
    "plot_data[\"hclust\"] = cluster.labels_"
   ]
  },
  {
   "cell_type": "code",
   "execution_count": null,
   "metadata": {},
   "outputs": [],
   "source": [
    "clusters_plot(\"hclust\")"
   ]
  },
  {
   "cell_type": "markdown",
   "metadata": {},
   "source": [
    "##### DBSCAN\n",
    "\n",
    "DBSCAN (Density-Based Spatial Clustering of Applications with Noise) is a density-based clustering algorithm, where clusters are defined as areas of higher density than the remainder of the dataset. Unlike K-means, DBSCAN doesn't require the user to specify the number of clusters. Instead, it infers the number of clusters based on the data, separating areas of high density from areas of low density. This can be particularly useful for discovering clusters of unusual shape."
   ]
  },
  {
   "cell_type": "code",
   "execution_count": null,
   "metadata": {},
   "outputs": [],
   "source": [
    "from sklearn.cluster import DBSCAN\n",
    "\n",
    "dbscan = DBSCAN(eps=0.95, min_samples=5)\n",
    "dbscan.fit(X.toarray())\n",
    "plot_data[\"dbscan\"] = dbscan.labels_"
   ]
  },
  {
   "cell_type": "code",
   "execution_count": null,
   "metadata": {},
   "outputs": [],
   "source": [
    "clusters_plot(\"dbscan\")"
   ]
  }
 ],
 "metadata": {
  "kernelspec": {
   "display_name": "rvo",
   "language": "python",
   "name": "python3"
  },
  "language_info": {
   "codemirror_mode": {
    "name": "ipython",
    "version": 3
   },
   "file_extension": ".py",
   "mimetype": "text/x-python",
   "name": "python",
   "nbconvert_exporter": "python",
   "pygments_lexer": "ipython3",
   "version": "3.10.11"
  },
  "orig_nbformat": 4
 },
 "nbformat": 4,
 "nbformat_minor": 2
}
